{
 "cells": [
  {
   "cell_type": "markdown",
   "metadata": {},
   "source": [
    "# IMPORTS"
   ]
  },
  {
   "cell_type": "code",
   "execution_count": 1,
   "metadata": {
    "tags": []
   },
   "outputs": [],
   "source": [
    "%matplotlib widget"
   ]
  },
  {
   "cell_type": "code",
   "execution_count": 1,
   "metadata": {
    "tags": []
   },
   "outputs": [],
   "source": [
    "from pathlib import Path\n",
    "\n",
    "import matplotlib.pyplot as plt\n",
    "import matplotlib.dates as mdates\n",
    "import numpy as np\n",
    "import xarray as xr\n",
    "from scipy import signal\n",
    "from scipy import interpolate\n",
    "import pandas as pd\n",
    "\n",
    "from pycns import CnsStream, CnsReader, get_viewer\n",
    "import physio\n",
    "\n",
    "from physio_rea_analyse import *\n",
    "from custum_view import *\n",
    "\n",
    "from configuration import *\n",
    "from tools import read_events "
   ]
  },
  {
   "cell_type": "markdown",
   "metadata": {
    "jp-MarkdownHeadingCollapsed": true
   },
   "source": [
    "# Patient MF12\n",
    "Monito_start: 09/09/2022 00:00\n",
    "\n",
    "Monito_end: 13/09/2022 00:00\n",
    "\n",
    "CSD --> NUP --> EME"
   ]
  },
  {
   "cell_type": "code",
   "execution_count": 18,
   "metadata": {
    "tags": []
   },
   "outputs": [
    {
     "ename": "TypeError",
     "evalue": "unsupported operand type(s) for /: 'str' and 'str'",
     "output_type": "error",
     "traceback": [
      "\u001b[0;31m---------------------------------------------------------------------------\u001b[0m",
      "\u001b[0;31mTypeError\u001b[0m                                 Traceback (most recent call last)",
      "Cell \u001b[0;32mIn[18], line 2\u001b[0m\n\u001b[1;32m      1\u001b[0m patient_id \u001b[38;5;241m=\u001b[39m \u001b[38;5;124m'\u001b[39m\u001b[38;5;124mMF12\u001b[39m\u001b[38;5;124m'\u001b[39m\n\u001b[0;32m----> 2\u001b[0m raw_folder \u001b[38;5;241m=\u001b[39m \u001b[43mdata_path\u001b[49m\u001b[43m \u001b[49m\u001b[38;5;241;43m/\u001b[39;49m\u001b[43m \u001b[49m\u001b[43mpatient_id\u001b[49m\n\u001b[1;32m      3\u001b[0m cns_reader \u001b[38;5;241m=\u001b[39m CnsReader(raw_folder)\n\u001b[1;32m      4\u001b[0m cns_reader\n",
      "\u001b[0;31mTypeError\u001b[0m: unsupported operand type(s) for /: 'str' and 'str'"
     ]
    }
   ],
   "source": [
    "patient_id = 'MF12'\n",
    "raw_folder = data_path / patient_id\n",
    "cns_reader = CnsReader(raw_folder)\n",
    "cns_reader"
   ]
  },
  {
   "cell_type": "markdown",
   "metadata": {},
   "source": [
    "## Streams"
   ]
  },
  {
   "cell_type": "code",
   "execution_count": null,
   "metadata": {
    "tags": []
   },
   "outputs": [],
   "source": [
    "cns_reader.streams"
   ]
  },
  {
   "cell_type": "code",
   "execution_count": null,
   "metadata": {},
   "outputs": [],
   "source": [
    "eeg_stream = cns_reader.streams['EEG']\n",
    "print(eeg_stream.channel_names)"
   ]
  },
  {
   "cell_type": "code",
   "execution_count": null,
   "metadata": {},
   "outputs": [],
   "source": [
    "stream_names = ['ECG_II', 'CO2', 'EEG', 'ABP']\n",
    "start_date = np.datetime64(\"2022-09-14T17:30:01\")\n",
    "stop_date = np.datetime64(\"2022-09-14T17:40:01\")\n",
    "srate = 100\n",
    "ds = cns_reader.export_to_xarray(stream_names, start=start_date, stop=stop_date, resample=True, sample_rate=srate)"
   ]
  },
  {
   "cell_type": "markdown",
   "metadata": {},
   "source": [
    "## EEG signal "
   ]
  },
  {
   "cell_type": "code",
   "execution_count": null,
   "metadata": {},
   "outputs": [],
   "source": [
    "#DC signal: \n",
    "chan_DC = 'ECoGA2'\n",
    "dc_eeg = cns_reader.streams['EEG']\n",
    "print(dc_eeg)\n",
    "dc_eeg = ds['EEG'].loc[:,chan_DC].values \n",
    "\n",
    "#AC signal: -> Check avec Valentin comment faire\n",
    "chan_AC = 'ECoGA4'\n",
    "ac_eeg = ds['EEG'].loc[:,chan_AC].values\n",
    "ac_eeg = iirfilt(ac_eeg, srate, 0.5, 40) \n",
    "# Filtrage à modif -> 0.5 Hz de cut-off (high-pass) / 20, 40, 50 Hz de cut-off (low-pass)\n",
    "# Fonction iirfilt de Valentin   \n",
    "\n",
    "dates = ds['EEG']['times'].values  \n",
    "\n",
    "#Plot the signals: 2 figures, one for DC and one for AC \n",
    "fig, ax = plt.subplots(2,1, sharex = True)\n",
    "ax[0].plot(dates, dc_eeg, c='m')\n",
    "ax[0].set_title('DC signal', c='m')\n",
    "ax[0].set_ylabel('DC (µV)')\n",
    "ax[1].plot(dates, ac_eeg, c='c')\n",
    "ax[1].set_title('AC signal', c='c')\n",
    "ax[1].set_ylabel('AC (mV)')\n",
    "plt.show()"
   ]
  },
  {
   "cell_type": "markdown",
   "metadata": {},
   "source": [
    "## ABP"
   ]
  },
  {
   "cell_type": "code",
   "execution_count": null,
   "metadata": {},
   "outputs": [],
   "source": [
    "abp = ds['ABP'].values\n",
    "dates = ds['ABP']['times'].values \n",
    "\n",
    "plt.figure()\n",
    "plt.plot(dates, abp, label='ABP', color='r')\n",
    "plt.xlabel('Time')\n",
    "plt.ylabel('ABP')\n",
    "plt.title('ABP over Time')\n",
    "plt.legend()\n",
    "plt.show()"
   ]
  },
  {
   "cell_type": "markdown",
   "metadata": {},
   "source": [
    "## ICP "
   ]
  },
  {
   "cell_type": "code",
   "execution_count": null,
   "metadata": {},
   "outputs": [],
   "source": [
    "icp = ds['ICP'].values\n",
    "dates = ds['ICP']['times'].values \n",
    "\n",
    "plt.figure()\n",
    "plt.plot(dates, icp, label='ICP', color='orange')\n",
    "plt.xlabel('Time')\n",
    "plt.ylabel('ICP')\n",
    "plt.title('ICP over Time during CSD')\n",
    "plt.legend()\n",
    "plt.show()"
   ]
  },
  {
   "cell_type": "markdown",
   "metadata": {},
   "source": [
    "## ECG"
   ]
  },
  {
   "cell_type": "code",
   "execution_count": null,
   "metadata": {},
   "outputs": [],
   "source": [
    "ecg = ds['ECG_II'].values\n",
    "dates = ds['ECG_II']['times'].values\n",
    "\n",
    "plt.figure()\n",
    "plt.plot(dates, ecg, label='ECG', color='b')\n",
    "plt.xlabel('Time')\n",
    "plt.ylabel('ECG')\n",
    "plt.title('ECG during event')\n",
    "plt.legend()\n",
    "# Adapt the scale to correctly display the ECG between \n",
    "plt.ylim(min(ecg)-0.1, max(ecg)+0.1)\n",
    "plt.show()\n"
   ]
  },
  {
   "cell_type": "markdown",
   "metadata": {},
   "source": [
    "## Instantaneous heart rate -> CRASH"
   ]
  },
  {
   "cell_type": "code",
   "execution_count": null,
   "metadata": {},
   "outputs": [],
   "source": [
    "# params = physio.get_ecg_parameters('human_ecg') \n",
    "# params['peak_detection']['thresh'] = 'auto'\n",
    "# params['peak_clean']['min_interval_ms'] = 400"
   ]
  },
  {
   "cell_type": "code",
   "execution_count": null,
   "metadata": {},
   "outputs": [],
   "source": [
    "# # From the ECG signal, we can extract the R peaks and the RR intervals  \n",
    "# raw_ecg = ds['ECG_II'].values\n",
    "# dates = ds['ECG_II']['times'].values\n",
    "# srate = 1000\n",
    "# times = np.arange(raw_ecg.size)/srate \n",
    "\n",
    "# # Detect R peaks \n",
    "# ecg, ecg_peaks = physio.compute_ecg(raw_ecg, srate, parameters=params)\n",
    "# r_peak_ind = ecg_peaks['peak_index'].values  "
   ]
  },
  {
   "cell_type": "markdown",
   "metadata": {},
   "source": [
    "## Data Viewer Customized (but shitty)"
   ]
  },
  {
   "cell_type": "code",
   "execution_count": null,
   "metadata": {},
   "outputs": [],
   "source": [
    "chan = 'ECoGA2'\n",
    "eeg = ds['EEG'].loc[:,chan].values\n",
    "co2 = ds['CO2'].values\n",
    "ecg = ds['ECG_II'].values\n",
    "\n",
    "dates = ds['CO2']['times'].values"
   ]
  },
  {
   "cell_type": "code",
   "execution_count": null,
   "metadata": {},
   "outputs": [],
   "source": [
    "%matplotlib widget\n",
    "\n",
    "# Plot the arrays on three different figures: \n",
    "fig, ax = plt.subplots(3,1, sharex = True)\n",
    "ax[0].plot(dates, co2, c='y')\n",
    "ax[0].set_title('CO2', c='y')\n",
    "ax[0].set_ylabel('CO2')\n",
    "ax[1].plot(dates, eeg, c='k')\n",
    "ax[1].set_title('EEG', c='k')\n",
    "ax[1].set_ylabel('EEG')\n",
    "ax[2].plot(dates, ecg, c='r')\n",
    "ax[2].set_title('ECG', c='r')\n",
    "ax[2].set_ylabel('ECG')\n",
    "plt.show()\n",
    "\n",
    "# Display DC + AC\n",
    "# Display HRV, RR, ABP, ICP, CO2 \n",
    "\n",
    "# Plot the arrays on the same figure:\n",
    "fig, ax = plt.subplots()\n",
    "ax.plot(dates, co2)\n",
    "ax2 = ax.twinx()\n",
    "ax2.plot(dates, eeg, color = 'k')\n",
    "ax3 = ax.twinx()\n",
    "ax3.plot(dates, ecg, color = 'r')\n",
    " \n"
   ]
  },
  {
   "cell_type": "markdown",
   "metadata": {
    "jp-MarkdownHeadingCollapsed": true
   },
   "source": [
    "# Patient HA1\n",
    "Monito_start: 02/01/2021\n",
    "\n",
    "Monito_end: 13/01/2021\n",
    "\n",
    "HSA W4F4 - Décès 25/03 après sortie neuro "
   ]
  },
  {
   "cell_type": "code",
   "execution_count": null,
   "metadata": {},
   "outputs": [],
   "source": [
    "#load data \n",
    "patient_id = 'HA1'\n",
    "raw_folder = data_path / patient_id\n",
    "cns_reader = CnsReader(raw_folder)\n",
    "cns_reader "
   ]
  },
  {
   "cell_type": "markdown",
   "metadata": {},
   "source": [
    "## Streams "
   ]
  },
  {
   "cell_type": "code",
   "execution_count": null,
   "metadata": {},
   "outputs": [],
   "source": [
    "cns_reader.streams"
   ]
  },
  {
   "cell_type": "code",
   "execution_count": null,
   "metadata": {},
   "outputs": [],
   "source": [
    "eeg_stream = cns_reader.streams['EEG']\n",
    "print(eeg_stream.channel_names)"
   ]
  },
  {
   "cell_type": "code",
   "execution_count": null,
   "metadata": {},
   "outputs": [],
   "source": [
    "dates = eeg_stream.get_times() \n",
    "print(dates[0], dates[-1])"
   ]
  },
  {
   "cell_type": "code",
   "execution_count": null,
   "metadata": {},
   "outputs": [],
   "source": [
    "stream_names = ['ECG_II', 'CO2', 'EEG', 'ABP', 'ICP']\n",
    "start_date = np.datetime64(\"2021-01-12T00:00:01\")\n",
    "stop_date = np.datetime64(\"2021-01-14T00:00:01\")\n",
    "\n",
    "srate = 100\n",
    "ds = cns_reader.export_to_xarray(stream_names, start=start_date, stop=stop_date, resample=True, sample_rate=100)"
   ]
  },
  {
   "cell_type": "markdown",
   "metadata": {},
   "source": [
    "## EEG signal "
   ]
  },
  {
   "cell_type": "code",
   "execution_count": null,
   "metadata": {},
   "outputs": [],
   "source": [
    "#DC signal:\n",
    "chan_DC = 'ECoGA4'\n",
    "dc_eeg = cns_reader.streams['EEG']\n",
    "print(dc_eeg)\n",
    "dc_eeg = ds['EEG'].loc[:,chan_DC].values \n",
    "\n",
    "#AC signal: -> Check avec Valentin comment faire \n",
    "chan_AC = 'ECoGA4'\n",
    "ac_eeg = ds['EEG'].loc[:,chan_AC].values\n",
    "ac_eeg = iirfilt(ac_eeg, srate, 0.5, 40)\n",
    "\n",
    "dates = ds['EEG']['times'].values  \n",
    "\n",
    "#Plot the signals: 2 figures, one for DC and one for AC \n",
    "fig, ax = plt.subplots(2,1, sharex = True)\n",
    "ax[0].plot(dates, dc_eeg, c='k')\n",
    "ax[0].set_title(f'DC signal - {chan_DC}', c='k')\n",
    "ax[0].set_ylabel('DC (µV)')\n",
    "ax[1].plot(dates, ac_eeg, c='b')\n",
    "ax[1].set_title(f'AC signal - {chan_AC}', c='b')\n",
    "ax[1].set_ylabel('AC (mV)')\n",
    "plt.ylim(min(ac_eeg)-0.1, max(ac_eeg)+0.1)\n",
    "plt.show()"
   ]
  },
  {
   "cell_type": "markdown",
   "metadata": {},
   "source": [
    "### Every channels displayed - Test"
   ]
  },
  {
   "cell_type": "code",
   "execution_count": null,
   "metadata": {},
   "outputs": [],
   "source": [
    "# # List of iEEG channels\n",
    "# channels = ['ECoGA1', 'ECoGA2', 'ECoGA3', 'ECoGA4', 'ECoGA5', 'ECoGA6']\n",
    "\n",
    "# # Create subplots\n",
    "# fig, ax = plt.subplots(len(channels), 1, sharex=True)\n",
    "\n",
    "# # Iterate through each channel\n",
    "# for i, channel in enumerate(channels):\n",
    "#     # DC signal\n",
    "#     dc_eeg = ds['EEG'].loc[:, channel].values\n",
    "    \n",
    "#     # AC signal filtering\n",
    "#     ac_eeg = ds['EEG'].loc[:, channel].values\n",
    "#     ac_eeg = iirfilt(ac_eeg, srate, 0.5, 40)\n",
    "    \n",
    "#     # Plot the signals\n",
    "#     ax[i].plot(dates, dc_eeg, c='k', label='DC')\n",
    "#     ax[i].plot(dates, ac_eeg, c='b', label='AC')\n",
    "#     ax[i].set_title(f'Channel: {channel}')\n",
    "#     ax[i].set_ylabel('Amplitude (µV)')\n",
    "#     ax[i].legend()\n",
    "\n",
    "# # Set common x label and show plot\n",
    "# ax[-1].set_xlabel('Time')\n",
    "# plt.tight_layout()\n",
    "# plt.show()"
   ]
  },
  {
   "cell_type": "markdown",
   "metadata": {},
   "source": [
    "## ABP"
   ]
  },
  {
   "cell_type": "code",
   "execution_count": null,
   "metadata": {},
   "outputs": [],
   "source": [
    "abp = ds['ABP'].values\n",
    "dates = ds['ABP']['times'].values \n",
    "\n",
    "# plt.figure()\n",
    "# plt.plot(dates, abp, label='ABP', color='r')\n",
    "# plt.xlabel('Time')\n",
    "# plt.ylabel('ABP')\n",
    "# plt.title('ABP over Time')\n",
    "# plt.legend()\n",
    "# plt.show()"
   ]
  },
  {
   "cell_type": "markdown",
   "metadata": {},
   "source": [
    "## ICP"
   ]
  },
  {
   "cell_type": "code",
   "execution_count": null,
   "metadata": {},
   "outputs": [],
   "source": [
    "icp = ds['ICP'].values\n",
    "dates = ds['ICP']['times'].values \n",
    "\n",
    "# plt.figure()\n",
    "# plt.plot(dates, icp, label='ICP', color='orange')\n",
    "# plt.xlabel('Time')\n",
    "# plt.ylabel('ICP')\n",
    "# plt.title('ICP over Time during CSD')\n",
    "# plt.legend()\n",
    "# plt.show()"
   ]
  },
  {
   "cell_type": "markdown",
   "metadata": {},
   "source": [
    "## ECG\n",
    "\n",
    "Impossible de réaliser l'analyse de la FCI à l'heure actuelle sans faire crasher l'ordi"
   ]
  },
  {
   "cell_type": "code",
   "execution_count": null,
   "metadata": {},
   "outputs": [],
   "source": [
    "ecg = ds['ECG_II'].values\n",
    "dates = ds['ECG_II']['times'].values\n",
    "\n",
    "# plt.figure()\n",
    "# plt.plot(dates, ecg, label='ECG', color='b')\n",
    "# plt.xlabel('Time')\n",
    "# plt.ylabel('ECG')\n",
    "# plt.title('ECG during event')\n",
    "# plt.legend()\n",
    "# # Adapt the scale to correctly display the ECG between \n",
    "# plt.ylim(min(ecg)-0.1, max(ecg)+0.1)\n",
    "# plt.show()"
   ]
  },
  {
   "cell_type": "markdown",
   "metadata": {},
   "source": [
    "## VENTILATION\n",
    "Impossible de réaliser l'analyse de la FCI à l'heure actuelle sans faire crasher l'ordi"
   ]
  },
  {
   "cell_type": "code",
   "execution_count": null,
   "metadata": {},
   "outputs": [],
   "source": [
    "# resp_rate = ds['RESP'].values\n",
    "# dates = ds['RESP']['times'].values\n",
    "\n",
    "# # Plot RR : \n",
    "# plt.figure()\n",
    "# plt.plot(dates, resp_rate, label='Resp rate', color='g')\n",
    "# plt.xlabel('Time')\n",
    "# plt.ylabel('Resp rate')\n",
    "# plt.title('Resp rate over Time')\n",
    "# plt.legend()"
   ]
  },
  {
   "cell_type": "code",
   "execution_count": null,
   "metadata": {},
   "outputs": [],
   "source": [
    "co2 = ds['CO2'].values\n",
    "dates = ds['CO2']['times'].values\n",
    "\n",
    "# Plot CO2: \n",
    "# plt.figure()\n",
    "# plt.plot(dates, co2, label='CO2', c='y')\n",
    "# plt.xlabel('Time')\n",
    "# plt.ylabel('CO2')\n",
    "# plt.title('CO2 over time')\n",
    "# plt.legend()"
   ]
  },
  {
   "cell_type": "markdown",
   "metadata": {},
   "source": [
    "## Data Viewer Customized (but shitty)"
   ]
  },
  {
   "cell_type": "code",
   "execution_count": null,
   "metadata": {},
   "outputs": [],
   "source": [
    "%matplotlib widget\n",
    "\n",
    "# Plot the arrays on three different figures: \n",
    "fig, axs = plt.subplots(6, 1, sharex = True)\n",
    "\n",
    "axs[0].plot(dates, co2, c='y')\n",
    "axs[0].set_title('CO2', c='y')\n",
    "plt.ylim(min(co2)-0.1, max(co2)+0.1)\n",
    "axs[1].plot(dates, dc_eeg, c='k')\n",
    "axs[1].set_title('DC signal', c='k')\n",
    "axs[2].plot(dates, ac_eeg)\n",
    "axs[2].set_title('AC signal', c='c')\n",
    "axs[3].plot(dates, abp, c='r')\n",
    "axs[3].set_title('ABP', c='r')\n",
    "axs[4].plot(dates, icp, c='orange')\n",
    "axs[4].set_title('ICP', c='orange')\n",
    "axs[5].plot(dates, ecg, c='b')\n",
    "axs[5].set_title('ECG', c='b')\n",
    "\n",
    "# ax[0].plot(dates, co2, c='y')\n",
    "# ax[0].set_title('CO2', c='y')\n",
    "# ax[0].set_ylabel('CO2')\n",
    "# ax[1].plot(dates, eeg, c='k')\n",
    "# ax[1].set_title('EEG', c='k')\n",
    "# ax[1].set_ylabel('EEG')\n",
    "# ax[2].plot(dates, ecg, c='r')\n",
    "# ax[2].set_title('ECG', c='r')\n",
    "# ax[2].set_ylabel('ECG')\n",
    "# ax[3].plot(dates, abp, c='o')\n",
    "# ax[3].set_title('ABP', c='o')\n",
    "# plt.show()\n",
    "\n",
    "# Plot the arrays on the same figure:\n",
    "# fig, ax = plt.subplots()\n",
    "# ax.plot(dates, co2)\n",
    "# ax2 = ax.twinx()\n",
    "# ax2.plot(dates, eeg, color = 'k')\n",
    "# ax3 = ax.twinx()\n",
    "# ax3.plot(dates, ecg, color = 'r')"
   ]
  },
  {
   "cell_type": "markdown",
   "metadata": {},
   "source": [
    "# Patient SP2\n",
    "Monito_start: 08/02/2021 11:33:24\n",
    "\n",
    "Monito_stop: 12/02/2021 16:24:50"
   ]
  },
  {
   "cell_type": "code",
   "execution_count": 6,
   "metadata": {},
   "outputs": [
    {
     "data": {
      "text/plain": [
       "CnsReader: SP2\n",
       "23 streams : ['ART_Syst', 'CPP', 'ICP', 'PLETH_Left', 'EEG_NeonatalParams', 'ART_Dias', 'EtCO2', 'rSO2_Left', 'ABP_Syst', 'HR', 'ECG_II', 'ABP', 'CO2', 'ART', 'ABP_Mean', 'EEG', 'EEG_Impedance', 'Temp', 'ABP_Dias', 'SpO2_Left', 'ICP_Mean', 'ART_Mean', 'rSO2_Right']"
      ]
     },
     "execution_count": 6,
     "metadata": {},
     "output_type": "execute_result"
    }
   ],
   "source": [
    "#load data \n",
    "patient_id = 'SP2'\n",
    "raw_folder = data_path / patient_id\n",
    "cns_reader = CnsReader(raw_folder)\n",
    "cns_reader "
   ]
  },
  {
   "cell_type": "markdown",
   "metadata": {},
   "source": [
    "## Streams"
   ]
  },
  {
   "cell_type": "code",
   "execution_count": 7,
   "metadata": {},
   "outputs": [
    {
     "data": {
      "text/plain": [
       "{'ART_Syst': CnsStream ART_Syst  rate:1Hz  shape:(104,),\n",
       " 'CPP': CnsStream CPP  rate:1Hz  shape:(330631,),\n",
       " 'ICP': CnsStream ICP  rate:122Hz  shape:(42543012,),\n",
       " 'PLETH_Left': CnsStream PLETH_Left  rate:122Hz  shape:(42888420,),\n",
       " 'EEG_NeonatalParams': CnsStream EEG_NeonatalParams  rate:2Hz  shape:(691951, 16),\n",
       " 'ART_Dias': CnsStream ART_Dias  rate:1Hz  shape:(104,),\n",
       " 'EtCO2': CnsStream EtCO2  rate:1Hz  shape:(8832,),\n",
       " 'rSO2_Left': CnsStream rSO2_Left  rate:0Hz  shape:(57071,),\n",
       " 'ABP_Syst': CnsStream ABP_Syst  rate:1Hz  shape:(331173,),\n",
       " 'HR': CnsStream HR  rate:1Hz  shape:(333257,),\n",
       " 'ECG_II': CnsStream ECG_II  rate:483Hz  shape:(171552336,),\n",
       " 'ABP': CnsStream ABP  rate:122Hz  shape:(42848676,),\n",
       " 'CO2': CnsStream CO2  rate:125Hz  shape:(1166016,),\n",
       " 'ART': CnsStream ART  rate:125Hz  shape:(16512,),\n",
       " 'ABP_Mean': CnsStream ABP_Mean  rate:1Hz  shape:(333254,),\n",
       " 'EEG': CnsStream EEG  rate:256Hz  shape:(88564256, 19),\n",
       " 'EEG_Impedance': CnsStream EEG_Impedance  rate:1Hz  shape:(345956, 22),\n",
       " 'Temp': CnsStream Temp  rate:1Hz  shape:(238781,),\n",
       " 'ABP_Dias': CnsStream ABP_Dias  rate:1Hz  shape:(331173,),\n",
       " 'SpO2_Left': CnsStream SpO2_Left  rate:1Hz  shape:(332839,),\n",
       " 'ICP_Mean': CnsStream ICP_Mean  rate:1Hz  shape:(332161,),\n",
       " 'ART_Mean': CnsStream ART_Mean  rate:1Hz  shape:(117,),\n",
       " 'rSO2_Right': CnsStream rSO2_Right  rate:0Hz  shape:(57082,)}"
      ]
     },
     "execution_count": 7,
     "metadata": {},
     "output_type": "execute_result"
    }
   ],
   "source": [
    "cns_reader.streams"
   ]
  },
  {
   "cell_type": "code",
   "execution_count": 8,
   "metadata": {},
   "outputs": [
    {
     "name": "stdout",
     "output_type": "stream",
     "text": [
      "['C3', 'C4', 'Cz', 'ECoGA1', 'ECoGA2', 'ECoGA3', 'ECoGA4', 'ECoGA5', 'ECoGA6', 'F3', 'F4', 'Fz', 'O1', 'O2', 'P3', 'P4', 'Pz', 'T7', 'T8']\n"
     ]
    }
   ],
   "source": [
    "eeg_stream = cns_reader.streams['EEG']\n",
    "print(eeg_stream.channel_names)"
   ]
  },
  {
   "cell_type": "code",
   "execution_count": 9,
   "metadata": {},
   "outputs": [
    {
     "name": "stdout",
     "output_type": "stream",
     "text": [
      "2021-02-08T11:33:24.498575 2021-02-12T16:24:50.584731\n"
     ]
    }
   ],
   "source": [
    "dates = eeg_stream.get_times() \n",
    "print(dates[0], dates[-1])"
   ]
  },
  {
   "cell_type": "code",
   "execution_count": null,
   "metadata": {},
   "outputs": [],
   "source": [
    "stream_names = ['ECG_II', 'EEG', 'ABP', 'ICP']\n",
    "start_date = np.datetime64(\"2021-02-10T00:00:01\")\n",
    "stop_date = np.datetime64(\"2021-02-12T16:24:50\")\n",
    "\n",
    "srate = 100\n",
    "ds = cns_reader.export_to_xarray(stream_names, start=start_date, stop=stop_date, resample=True, sample_rate=100)"
   ]
  },
  {
   "cell_type": "markdown",
   "metadata": {},
   "source": [
    "## EEG signal"
   ]
  },
  {
   "cell_type": "code",
   "execution_count": null,
   "metadata": {},
   "outputs": [],
   "source": [
    "#DC signal:\n",
    "chan_DC = 'ECoGA2'\n",
    "dc_eeg = cns_reader.streams['EEG']\n",
    "print(dc_eeg)\n",
    "dc_eeg = ds['EEG'].loc[:,chan_DC].values \n",
    "\n",
    "#AC signal: -> Check avec Valentin comment faire \n",
    "chan_AC = 'ECoGA2'\n",
    "ac_eeg = ds['EEG'].loc[:,chan_AC].values\n",
    "ac_eeg = iirfilt(ac_eeg, srate, 0.5, 40)\n",
    "\n",
    "dates = ds['EEG']['times'].values  \n",
    "\n",
    "#Plot the signals: 2 figures, one for DC and one for AC \n",
    "fig, ax = plt.subplots(2,1, sharex = True)\n",
    "ax[0].plot(dates, dc_eeg, c='k')\n",
    "ax[0].set_title(f'DC signal - {chan_DC}', c='k')\n",
    "ax[0].set_ylabel('DC (µV)')\n",
    "ax[1].plot(dates, ac_eeg, c='b')\n",
    "ax[1].set_title(f'AC signal - {chan_AC}', c='b')\n",
    "ax[1].set_ylabel('AC (mV)')\n",
    "plt.show()"
   ]
  },
  {
   "cell_type": "markdown",
   "metadata": {},
   "source": [
    "## ABP"
   ]
  },
  {
   "cell_type": "code",
   "execution_count": null,
   "metadata": {},
   "outputs": [],
   "source": [
    "abp = ds['ABP'].values\n",
    "dates = ds['ABP']['times'].values \n",
    "\n",
    "# plt.figure()\n",
    "# plt.plot(dates, abp, label='ABP', color='r')\n",
    "# plt.xlabel('Time')\n",
    "# plt.ylabel('ABP')\n",
    "# plt.title('ABP over Time')\n",
    "# plt.legend()\n",
    "# plt.show()"
   ]
  },
  {
   "cell_type": "markdown",
   "metadata": {},
   "source": [
    "## ICP"
   ]
  },
  {
   "cell_type": "code",
   "execution_count": null,
   "metadata": {},
   "outputs": [],
   "source": [
    "icp = ds['ICP'].values\n",
    "dates = ds['ICP']['times'].values \n",
    "\n",
    "# plt.figure()\n",
    "# plt.plot(dates, icp, label='ICP', color='orange')\n",
    "# plt.xlabel('Time')\n",
    "# plt.ylabel('ICP')\n",
    "# plt.title('ICP over Time during CSD')\n",
    "# plt.legend()\n",
    "# plt.show()"
   ]
  },
  {
   "cell_type": "markdown",
   "metadata": {},
   "source": [
    "## ECG"
   ]
  },
  {
   "cell_type": "code",
   "execution_count": null,
   "metadata": {},
   "outputs": [],
   "source": [
    "ecg = ds['ECG_II'].values\n",
    "dates = ds['ECG_II']['times'].values\n",
    "\n",
    "# plt.figure()\n",
    "# plt.plot(dates, ecg, label='ECG', color='b')\n",
    "# plt.xlabel('Time')\n",
    "# plt.ylabel('ECG')\n",
    "# plt.title('ECG during event')\n",
    "# plt.legend()\n",
    "# # Adapt the scale to correctly display the ECG between \n",
    "# plt.ylim(min(ecg)-0.1, max(ecg)+0.1)\n",
    "# plt.show()"
   ]
  },
  {
   "cell_type": "markdown",
   "metadata": {},
   "source": [
    "## Data Viewer Customized (but shitty)"
   ]
  },
  {
   "cell_type": "code",
   "execution_count": null,
   "metadata": {},
   "outputs": [],
   "source": [
    "%matplotlib widget\n",
    " \n",
    "fig, axs = plt.subplots(5, 1, sharex = True, figsize=(10, 10))\n",
    "\n",
    "axs[0].plot(dates, dc_eeg, c='k')\n",
    "axs[0].set_title('DC signal', c='k')\n",
    "axs[1].plot(dates, ac_eeg)\n",
    "axs[1].set_title('AC signal', c='c')\n",
    "axs[2].plot(dates, abp, c='r')\n",
    "axs[2].set_title('ABP', c='r')\n",
    "axs[3].plot(dates, icp, c='orange')\n",
    "axs[3].set_title('ICP', c='orange')\n",
    "axs[4].plot(dates, ecg, c='b')\n",
    "axs[4].set_title('ECG', c='b')\n",
    "\n",
    "# ax[0].plot(dates, co2, c='y')\n",
    "# ax[0].set_title('CO2', c='y')\n",
    "# ax[0].set_ylabel('CO2')\n",
    "# ax[1].plot(dates, eeg, c='k')\n",
    "# ax[1].set_title('EEG', c='k')\n",
    "# ax[1].set_ylabel('EEG')\n",
    "# ax[2].plot(dates, ecg, c='r')\n",
    "# ax[2].set_title('ECG', c='r')\n",
    "# ax[2].set_ylabel('ECG')\n",
    "# ax[3].plot(dates, abp, c='o')\n",
    "# ax[3].set_title('ABP', c='o')\n",
    "# plt.show()\n",
    "\n",
    "# Plot the arrays on the same figure:\n",
    "# fig, ax = plt.subplots()\n",
    "# ax.plot(dates, co2)\n",
    "# ax2 = ax.twinx()\n",
    "# ax2.plot(dates, eeg, color = 'k')\n",
    "# ax3 = ax.twinx()\n",
    "# ax3.plot(dates, ecg, color = 'r')"
   ]
  },
  {
   "cell_type": "markdown",
   "metadata": {
    "jp-MarkdownHeadingCollapsed": true
   },
   "source": [
    "# Patient BM3\n",
    "Monito_start: 25/02/2021 18:25:44\n",
    "\n",
    "Monito_stop: 01/03/2021 10:29:44"
   ]
  },
  {
   "cell_type": "code",
   "execution_count": 4,
   "metadata": {},
   "outputs": [
    {
     "data": {
      "text/plain": [
       "CnsReader: BM3\n",
       "22 streams : ['ABP_Dias', 'ABP_Mean', 'ABP', 'ABP_Syst', 'ART_Mean', 'ART', 'CO2', 'CPP', 'ECG_II', 'EEG_Impedance', 'EEG_NeonatalParams', 'EEG', 'EtCO2', 'HR', 'ICP_Mean', 'ICP', 'PbtO2', 'RESP', 'rSO2_Left', 'rSO2_Right', 'SpO2', 'Temp']"
      ]
     },
     "execution_count": 4,
     "metadata": {},
     "output_type": "execute_result"
    }
   ],
   "source": [
    "#load data \n",
    "patient_id = 'BM3'\n",
    "raw_folder = data_path / patient_id\n",
    "cns_reader = CnsReader(raw_folder)\n",
    "cns_reader "
   ]
  },
  {
   "cell_type": "markdown",
   "metadata": {},
   "source": [
    "## Streams"
   ]
  },
  {
   "cell_type": "code",
   "execution_count": 5,
   "metadata": {},
   "outputs": [
    {
     "data": {
      "text/plain": [
       "{'ABP_Dias': CnsStream ABP_Dias  rate:1Hz  shape:(298740,),\n",
       " 'ABP_Mean': CnsStream ABP_Mean  rate:1Hz  shape:(299691,),\n",
       " 'ABP': CnsStream ABP  rate:116Hz  shape:(38436236,),\n",
       " 'ABP_Syst': CnsStream ABP_Syst  rate:1Hz  shape:(298740,),\n",
       " 'ART_Mean': CnsStream ART_Mean  rate:1Hz  shape:(142,),\n",
       " 'ART': CnsStream ART  rate:125Hz  shape:(17824,),\n",
       " 'CO2': CnsStream CO2  rate:59Hz  shape:(19227984,),\n",
       " 'CPP': CnsStream CPP  rate:1Hz  shape:(299607,),\n",
       " 'ECG_II': CnsStream ECG_II  rate:469Hz  shape:(153824384,),\n",
       " 'EEG_Impedance': CnsStream EEG_Impedance  rate:1Hz  shape:(312568, 24),\n",
       " 'EEG_NeonatalParams': CnsStream EEG_NeonatalParams  rate:2Hz  shape:(625179, 16),\n",
       " 'EEG': CnsStream EEG  rate:256Hz  shape:(80017696, 21),\n",
       " 'EtCO2': CnsStream EtCO2  rate:1Hz  shape:(297588,),\n",
       " 'HR': CnsStream HR  rate:1Hz  shape:(298003,),\n",
       " 'ICP_Mean': CnsStream ICP_Mean  rate:1Hz  shape:(300374,),\n",
       " 'ICP': CnsStream ICP  rate:117Hz  shape:(38456096,),\n",
       " 'PbtO2': CnsStream PbtO2  rate:0Hz  shape:(4992,),\n",
       " 'RESP': CnsStream RESP  rate:59Hz  shape:(19227984,),\n",
       " 'rSO2_Left': CnsStream rSO2_Left  rate:0Hz  shape:(52693,),\n",
       " 'rSO2_Right': CnsStream rSO2_Right  rate:0Hz  shape:(52705,),\n",
       " 'SpO2': CnsStream SpO2  rate:1Hz  shape:(296447,),\n",
       " 'Temp': CnsStream Temp  rate:1Hz  shape:(93932,)}"
      ]
     },
     "execution_count": 5,
     "metadata": {},
     "output_type": "execute_result"
    }
   ],
   "source": [
    "cns_reader.streams"
   ]
  },
  {
   "cell_type": "code",
   "execution_count": 6,
   "metadata": {},
   "outputs": [
    {
     "name": "stdout",
     "output_type": "stream",
     "text": [
      "['C3', 'C4', 'Cz', 'ECoG1', 'ECoG2', 'ECoG3', 'ECoG4', 'ECoG5', 'ECoG6', 'ECoG7', 'ECoG8', 'F3', 'F4', 'Fz', 'O1', 'O2', 'P3', 'P4', 'Pz', 'T7', 'T8']\n"
     ]
    }
   ],
   "source": [
    "eeg_stream = cns_reader.streams['EEG']\n",
    "print(eeg_stream.channel_names)"
   ]
  },
  {
   "cell_type": "code",
   "execution_count": 15,
   "metadata": {},
   "outputs": [
    {
     "name": "stdout",
     "output_type": "stream",
     "text": [
      "2021-02-25T18:25:44.455691 2021-03-01T10:29:44.651844\n"
     ]
    }
   ],
   "source": [
    "dates = eeg_stream.get_times() \n",
    "print(dates[0], dates[-1])\n"
   ]
  },
  {
   "cell_type": "code",
   "execution_count": 11,
   "metadata": {},
   "outputs": [],
   "source": [
    "# Get streams of interest: \n",
    "\n",
    "stream_names = ['ECG_II', 'EEG', 'ABP', 'ICP']\n",
    "start_date = np.datetime64(\"2021-02-25T19:00:01\")\n",
    "stop_date = np.datetime64(\"2021-02-28T00:00:01\")\n",
    "\n",
    "srate = 100\n",
    "ds = cns_reader.export_to_xarray(stream_names, start=start_date, stop=stop_date, resample=True, sample_rate=100)"
   ]
  },
  {
   "cell_type": "markdown",
   "metadata": {},
   "source": [
    "## EEG signal "
   ]
  },
  {
   "cell_type": "code",
   "execution_count": 17,
   "metadata": {},
   "outputs": [
    {
     "ename": "KeyError",
     "evalue": "\"not all values found in index 'channels'. Try setting the `method` keyword argument (example: method='nearest').\"",
     "output_type": "error",
     "traceback": [
      "\u001b[1;31m---------------------------------------------------------------------------\u001b[0m",
      "\u001b[1;31mKeyError\u001b[0m                                  Traceback (most recent call last)",
      "File \u001b[1;32mc:\\Users\\gwenp\\anaconda3\\Lib\\site-packages\\pandas\\core\\indexes\\base.py:3791\u001b[0m, in \u001b[0;36mIndex.get_loc\u001b[1;34m(self, key)\u001b[0m\n\u001b[0;32m   3790\u001b[0m \u001b[38;5;28;01mtry\u001b[39;00m:\n\u001b[1;32m-> 3791\u001b[0m     \u001b[38;5;28;01mreturn\u001b[39;00m \u001b[38;5;28mself\u001b[39m\u001b[38;5;241m.\u001b[39m_engine\u001b[38;5;241m.\u001b[39mget_loc(casted_key)\n\u001b[0;32m   3792\u001b[0m \u001b[38;5;28;01mexcept\u001b[39;00m \u001b[38;5;167;01mKeyError\u001b[39;00m \u001b[38;5;28;01mas\u001b[39;00m err:\n",
      "File \u001b[1;32mindex.pyx:152\u001b[0m, in \u001b[0;36mpandas._libs.index.IndexEngine.get_loc\u001b[1;34m()\u001b[0m\n",
      "File \u001b[1;32mindex.pyx:181\u001b[0m, in \u001b[0;36mpandas._libs.index.IndexEngine.get_loc\u001b[1;34m()\u001b[0m\n",
      "File \u001b[1;32mpandas\\_libs\\hashtable_class_helper.pxi:7080\u001b[0m, in \u001b[0;36mpandas._libs.hashtable.PyObjectHashTable.get_item\u001b[1;34m()\u001b[0m\n",
      "File \u001b[1;32mpandas\\_libs\\hashtable_class_helper.pxi:7088\u001b[0m, in \u001b[0;36mpandas._libs.hashtable.PyObjectHashTable.get_item\u001b[1;34m()\u001b[0m\n",
      "\u001b[1;31mKeyError\u001b[0m: 'ECoGA8'",
      "\nThe above exception was the direct cause of the following exception:\n",
      "\u001b[1;31mKeyError\u001b[0m                                  Traceback (most recent call last)",
      "File \u001b[1;32mc:\\Users\\gwenp\\anaconda3\\Lib\\site-packages\\xarray\\core\\indexes.py:486\u001b[0m, in \u001b[0;36mPandasIndex.sel\u001b[1;34m(self, labels, method, tolerance)\u001b[0m\n\u001b[0;32m    485\u001b[0m \u001b[38;5;28;01mtry\u001b[39;00m:\n\u001b[1;32m--> 486\u001b[0m     indexer \u001b[38;5;241m=\u001b[39m \u001b[38;5;28mself\u001b[39m\u001b[38;5;241m.\u001b[39mindex\u001b[38;5;241m.\u001b[39mget_loc(label_value)\n\u001b[0;32m    487\u001b[0m \u001b[38;5;28;01mexcept\u001b[39;00m \u001b[38;5;167;01mKeyError\u001b[39;00m \u001b[38;5;28;01mas\u001b[39;00m e:\n",
      "File \u001b[1;32mc:\\Users\\gwenp\\anaconda3\\Lib\\site-packages\\pandas\\core\\indexes\\base.py:3798\u001b[0m, in \u001b[0;36mIndex.get_loc\u001b[1;34m(self, key)\u001b[0m\n\u001b[0;32m   3797\u001b[0m         \u001b[38;5;28;01mraise\u001b[39;00m InvalidIndexError(key)\n\u001b[1;32m-> 3798\u001b[0m     \u001b[38;5;28;01mraise\u001b[39;00m \u001b[38;5;167;01mKeyError\u001b[39;00m(key) \u001b[38;5;28;01mfrom\u001b[39;00m \u001b[38;5;21;01merr\u001b[39;00m\n\u001b[0;32m   3799\u001b[0m \u001b[38;5;28;01mexcept\u001b[39;00m \u001b[38;5;167;01mTypeError\u001b[39;00m:\n\u001b[0;32m   3800\u001b[0m     \u001b[38;5;66;03m# If we have a listlike key, _check_indexing_error will raise\u001b[39;00m\n\u001b[0;32m   3801\u001b[0m     \u001b[38;5;66;03m#  InvalidIndexError. Otherwise we fall through and re-raise\u001b[39;00m\n\u001b[0;32m   3802\u001b[0m     \u001b[38;5;66;03m#  the TypeError.\u001b[39;00m\n",
      "\u001b[1;31mKeyError\u001b[0m: 'ECoGA8'",
      "\nThe above exception was the direct cause of the following exception:\n",
      "\u001b[1;31mKeyError\u001b[0m                                  Traceback (most recent call last)",
      "Cell \u001b[1;32mIn[17], line 4\u001b[0m\n\u001b[0;32m      2\u001b[0m chan_DC \u001b[38;5;241m=\u001b[39m \u001b[38;5;124m'\u001b[39m\u001b[38;5;124mECoGA8\u001b[39m\u001b[38;5;124m'\u001b[39m\n\u001b[0;32m      3\u001b[0m dc_eeg \u001b[38;5;241m=\u001b[39m cns_reader\u001b[38;5;241m.\u001b[39mstreams[\u001b[38;5;124m'\u001b[39m\u001b[38;5;124mEEG\u001b[39m\u001b[38;5;124m'\u001b[39m]\n\u001b[1;32m----> 4\u001b[0m dc_eeg \u001b[38;5;241m=\u001b[39m ds[\u001b[38;5;124m'\u001b[39m\u001b[38;5;124mEEG\u001b[39m\u001b[38;5;124m'\u001b[39m]\u001b[38;5;241m.\u001b[39mloc[:,chan_DC]\u001b[38;5;241m.\u001b[39mvalues \n\u001b[0;32m      6\u001b[0m \u001b[38;5;66;03m#AC signal:\u001b[39;00m\n\u001b[0;32m      7\u001b[0m chan_AC \u001b[38;5;241m=\u001b[39m \u001b[38;5;124m'\u001b[39m\u001b[38;5;124mECoGA8\u001b[39m\u001b[38;5;124m'\u001b[39m\n",
      "File \u001b[1;32mc:\\Users\\gwenp\\anaconda3\\Lib\\site-packages\\xarray\\core\\dataarray.py:214\u001b[0m, in \u001b[0;36m_LocIndexer.__getitem__\u001b[1;34m(self, key)\u001b[0m\n\u001b[0;32m    212\u001b[0m     labels \u001b[38;5;241m=\u001b[39m indexing\u001b[38;5;241m.\u001b[39mexpanded_indexer(key, \u001b[38;5;28mself\u001b[39m\u001b[38;5;241m.\u001b[39mdata_array\u001b[38;5;241m.\u001b[39mndim)\n\u001b[0;32m    213\u001b[0m     key \u001b[38;5;241m=\u001b[39m \u001b[38;5;28mdict\u001b[39m(\u001b[38;5;28mzip\u001b[39m(\u001b[38;5;28mself\u001b[39m\u001b[38;5;241m.\u001b[39mdata_array\u001b[38;5;241m.\u001b[39mdims, labels))\n\u001b[1;32m--> 214\u001b[0m \u001b[38;5;28;01mreturn\u001b[39;00m \u001b[38;5;28mself\u001b[39m\u001b[38;5;241m.\u001b[39mdata_array\u001b[38;5;241m.\u001b[39msel(key)\n",
      "File \u001b[1;32mc:\\Users\\gwenp\\anaconda3\\Lib\\site-packages\\xarray\\core\\dataarray.py:1550\u001b[0m, in \u001b[0;36mDataArray.sel\u001b[1;34m(self, indexers, method, tolerance, drop, **indexers_kwargs)\u001b[0m\n\u001b[0;32m   1440\u001b[0m \u001b[38;5;28;01mdef\u001b[39;00m \u001b[38;5;21msel\u001b[39m(\n\u001b[0;32m   1441\u001b[0m     \u001b[38;5;28mself\u001b[39m: T_DataArray,\n\u001b[0;32m   1442\u001b[0m     indexers: Mapping[Any, Any] \u001b[38;5;241m|\u001b[39m \u001b[38;5;28;01mNone\u001b[39;00m \u001b[38;5;241m=\u001b[39m \u001b[38;5;28;01mNone\u001b[39;00m,\n\u001b[1;32m   (...)\u001b[0m\n\u001b[0;32m   1446\u001b[0m     \u001b[38;5;241m*\u001b[39m\u001b[38;5;241m*\u001b[39mindexers_kwargs: Any,\n\u001b[0;32m   1447\u001b[0m ) \u001b[38;5;241m-\u001b[39m\u001b[38;5;241m>\u001b[39m T_DataArray:\n\u001b[0;32m   1448\u001b[0m \u001b[38;5;250m    \u001b[39m\u001b[38;5;124;03m\"\"\"Return a new DataArray whose data is given by selecting index\u001b[39;00m\n\u001b[0;32m   1449\u001b[0m \u001b[38;5;124;03m    labels along the specified dimension(s).\u001b[39;00m\n\u001b[0;32m   1450\u001b[0m \n\u001b[1;32m   (...)\u001b[0m\n\u001b[0;32m   1548\u001b[0m \u001b[38;5;124;03m    Dimensions without coordinates: points\u001b[39;00m\n\u001b[0;32m   1549\u001b[0m \u001b[38;5;124;03m    \"\"\"\u001b[39;00m\n\u001b[1;32m-> 1550\u001b[0m     ds \u001b[38;5;241m=\u001b[39m \u001b[38;5;28mself\u001b[39m\u001b[38;5;241m.\u001b[39m_to_temp_dataset()\u001b[38;5;241m.\u001b[39msel(\n\u001b[0;32m   1551\u001b[0m         indexers\u001b[38;5;241m=\u001b[39mindexers,\n\u001b[0;32m   1552\u001b[0m         drop\u001b[38;5;241m=\u001b[39mdrop,\n\u001b[0;32m   1553\u001b[0m         method\u001b[38;5;241m=\u001b[39mmethod,\n\u001b[0;32m   1554\u001b[0m         tolerance\u001b[38;5;241m=\u001b[39mtolerance,\n\u001b[0;32m   1555\u001b[0m         \u001b[38;5;241m*\u001b[39m\u001b[38;5;241m*\u001b[39mindexers_kwargs,\n\u001b[0;32m   1556\u001b[0m     )\n\u001b[0;32m   1557\u001b[0m     \u001b[38;5;28;01mreturn\u001b[39;00m \u001b[38;5;28mself\u001b[39m\u001b[38;5;241m.\u001b[39m_from_temp_dataset(ds)\n",
      "File \u001b[1;32mc:\\Users\\gwenp\\anaconda3\\Lib\\site-packages\\xarray\\core\\dataset.py:2653\u001b[0m, in \u001b[0;36mDataset.sel\u001b[1;34m(self, indexers, method, tolerance, drop, **indexers_kwargs)\u001b[0m\n\u001b[0;32m   2592\u001b[0m \u001b[38;5;250m\u001b[39m\u001b[38;5;124;03m\"\"\"Returns a new dataset with each array indexed by tick labels\u001b[39;00m\n\u001b[0;32m   2593\u001b[0m \u001b[38;5;124;03malong the specified dimension(s).\u001b[39;00m\n\u001b[0;32m   2594\u001b[0m \n\u001b[1;32m   (...)\u001b[0m\n\u001b[0;32m   2650\u001b[0m \u001b[38;5;124;03mDataArray.sel\u001b[39;00m\n\u001b[0;32m   2651\u001b[0m \u001b[38;5;124;03m\"\"\"\u001b[39;00m\n\u001b[0;32m   2652\u001b[0m indexers \u001b[38;5;241m=\u001b[39m either_dict_or_kwargs(indexers, indexers_kwargs, \u001b[38;5;124m\"\u001b[39m\u001b[38;5;124msel\u001b[39m\u001b[38;5;124m\"\u001b[39m)\n\u001b[1;32m-> 2653\u001b[0m query_results \u001b[38;5;241m=\u001b[39m map_index_queries(\n\u001b[0;32m   2654\u001b[0m     \u001b[38;5;28mself\u001b[39m, indexers\u001b[38;5;241m=\u001b[39mindexers, method\u001b[38;5;241m=\u001b[39mmethod, tolerance\u001b[38;5;241m=\u001b[39mtolerance\n\u001b[0;32m   2655\u001b[0m )\n\u001b[0;32m   2657\u001b[0m \u001b[38;5;28;01mif\u001b[39;00m drop:\n\u001b[0;32m   2658\u001b[0m     no_scalar_variables \u001b[38;5;241m=\u001b[39m {}\n",
      "File \u001b[1;32mc:\\Users\\gwenp\\anaconda3\\Lib\\site-packages\\xarray\\core\\indexing.py:190\u001b[0m, in \u001b[0;36mmap_index_queries\u001b[1;34m(obj, indexers, method, tolerance, **indexers_kwargs)\u001b[0m\n\u001b[0;32m    188\u001b[0m         results\u001b[38;5;241m.\u001b[39mappend(IndexSelResult(labels))\n\u001b[0;32m    189\u001b[0m     \u001b[38;5;28;01melse\u001b[39;00m:\n\u001b[1;32m--> 190\u001b[0m         results\u001b[38;5;241m.\u001b[39mappend(index\u001b[38;5;241m.\u001b[39msel(labels, \u001b[38;5;241m*\u001b[39m\u001b[38;5;241m*\u001b[39moptions))\n\u001b[0;32m    192\u001b[0m merged \u001b[38;5;241m=\u001b[39m merge_sel_results(results)\n\u001b[0;32m    194\u001b[0m \u001b[38;5;66;03m# drop dimension coordinates found in dimension indexers\u001b[39;00m\n\u001b[0;32m    195\u001b[0m \u001b[38;5;66;03m# (also drop multi-index if any)\u001b[39;00m\n\u001b[0;32m    196\u001b[0m \u001b[38;5;66;03m# (.sel() already ensures alignment)\u001b[39;00m\n",
      "File \u001b[1;32mc:\\Users\\gwenp\\anaconda3\\Lib\\site-packages\\xarray\\core\\indexes.py:488\u001b[0m, in \u001b[0;36mPandasIndex.sel\u001b[1;34m(self, labels, method, tolerance)\u001b[0m\n\u001b[0;32m    486\u001b[0m                 indexer \u001b[38;5;241m=\u001b[39m \u001b[38;5;28mself\u001b[39m\u001b[38;5;241m.\u001b[39mindex\u001b[38;5;241m.\u001b[39mget_loc(label_value)\n\u001b[0;32m    487\u001b[0m             \u001b[38;5;28;01mexcept\u001b[39;00m \u001b[38;5;167;01mKeyError\u001b[39;00m \u001b[38;5;28;01mas\u001b[39;00m e:\n\u001b[1;32m--> 488\u001b[0m                 \u001b[38;5;28;01mraise\u001b[39;00m \u001b[38;5;167;01mKeyError\u001b[39;00m(\n\u001b[0;32m    489\u001b[0m                     \u001b[38;5;124mf\u001b[39m\u001b[38;5;124m\"\u001b[39m\u001b[38;5;124mnot all values found in index \u001b[39m\u001b[38;5;132;01m{\u001b[39;00mcoord_name\u001b[38;5;132;01m!r}\u001b[39;00m\u001b[38;5;124m. \u001b[39m\u001b[38;5;124m\"\u001b[39m\n\u001b[0;32m    490\u001b[0m                     \u001b[38;5;124m\"\u001b[39m\u001b[38;5;124mTry setting the `method` keyword argument (example: method=\u001b[39m\u001b[38;5;124m'\u001b[39m\u001b[38;5;124mnearest\u001b[39m\u001b[38;5;124m'\u001b[39m\u001b[38;5;124m).\u001b[39m\u001b[38;5;124m\"\u001b[39m\n\u001b[0;32m    491\u001b[0m                 ) \u001b[38;5;28;01mfrom\u001b[39;00m \u001b[38;5;21;01me\u001b[39;00m\n\u001b[0;32m    493\u001b[0m \u001b[38;5;28;01melif\u001b[39;00m label_array\u001b[38;5;241m.\u001b[39mdtype\u001b[38;5;241m.\u001b[39mkind \u001b[38;5;241m==\u001b[39m \u001b[38;5;124m\"\u001b[39m\u001b[38;5;124mb\u001b[39m\u001b[38;5;124m\"\u001b[39m:\n\u001b[0;32m    494\u001b[0m     indexer \u001b[38;5;241m=\u001b[39m label_array\n",
      "\u001b[1;31mKeyError\u001b[0m: \"not all values found in index 'channels'. Try setting the `method` keyword argument (example: method='nearest').\""
     ]
    }
   ],
   "source": [
    "#DC signal:\n",
    "chan_DC = 'ECoGA8'\n",
    "dc_eeg = cns_reader.streams['EEG']\n",
    "dc_eeg = ds['EEG'].loc[:,chan_DC].values \n",
    "\n",
    "#AC signal:\n",
    "chan_AC = 'ECoGA8'\n",
    "ac_eeg = ds['EEG'].loc[:,chan_AC].values\n",
    "ac_eeg = iirfilt(ac_eeg, srate, 0.5, 40)\n",
    "\n",
    "dates = ds['EEG']['times'].values  \n",
    "\n",
    "#Plot the signals: 2 figures, one for DC and one for AC \n",
    "fig, ax = plt.subplots(2,1, sharex = True)\n",
    "ax[0].plot(dates, dc_eeg, c='k')\n",
    "ax[0].set_title(f'DC signal - {chan_DC}', c='k')\n",
    "ax[0].set_ylabel('DC (µV)')\n",
    "ax[1].plot(dates, ac_eeg, c='b')\n",
    "ax[1].set_title(f'AC signal - {chan_AC}', c='b')\n",
    "ax[1].set_ylabel('AC (mV)')\n",
    "plt.show()"
   ]
  },
  {
   "cell_type": "markdown",
   "metadata": {},
   "source": [
    "## ABP "
   ]
  },
  {
   "cell_type": "markdown",
   "metadata": {},
   "source": [
    "## ICP"
   ]
  },
  {
   "cell_type": "markdown",
   "metadata": {},
   "source": [
    "## ECG"
   ]
  },
  {
   "cell_type": "markdown",
   "metadata": {},
   "source": [
    "## Data Viewer Customized (but shitty)"
   ]
  },
  {
   "cell_type": "markdown",
   "metadata": {},
   "source": [
    "# Patient DV4\n",
    "Monitoring_start: 30/03/2021\n",
    "Monitoring_stop: 04/11/2021"
   ]
  },
  {
   "cell_type": "markdown",
   "metadata": {},
   "source": []
  },
  {
   "cell_type": "markdown",
   "metadata": {},
   "source": [
    "# Coder une classe pour le viewer"
   ]
  },
  {
   "cell_type": "code",
   "execution_count": 11,
   "metadata": {},
   "outputs": [],
   "source": [
    "import scipy"
   ]
  },
  {
   "cell_type": "code",
   "execution_count": 3,
   "metadata": {},
   "outputs": [
    {
     "data": {
      "text/plain": [
       "CnsReader: MF12\n",
       "17 streams : ['SpO2', 'CPP', 'ICP', 'EEG_NeonatalParams', 'ABP_Syst', 'HR', 'ECG_II', 'ABP', 'CO2', 'ABP_Mean', 'EEG', 'EEG_Impedance', 'Temp', 'EtCO2_Ext', 'ABP_Dias', 'PLETH', 'ICP_Mean']"
      ]
     },
     "execution_count": 3,
     "metadata": {},
     "output_type": "execute_result"
    }
   ],
   "source": [
    "patient_id = 'MF12'\n",
    "raw_folder = data_path / patient_id\n",
    "cns_reader = CnsReader(raw_folder)\n",
    "cns_reader"
   ]
  },
  {
   "cell_type": "code",
   "execution_count": 4,
   "metadata": {},
   "outputs": [],
   "source": [
    "srate = cns_reader.streams['CO2'].sample_rate\n",
    "sig, times = cns_reader.streams['CO2'].get_data(isel=slice(100_000, 110_000), with_times=True, apply_gain=True)"
   ]
  },
  {
   "cell_type": "code",
   "execution_count": 5,
   "metadata": {},
   "outputs": [],
   "source": [
    "def test():\n",
    "    a = 5\n",
    "    b = 6\n",
    "    c = a + b\n",
    "    return c"
   ]
  },
  {
   "cell_type": "code",
   "execution_count": 12,
   "metadata": {},
   "outputs": [],
   "source": [
    "class Signal_Processing:\n",
    "    def __init__(self, sig, srate, start_time, stop_time):\n",
    "        self.srate = srate\n",
    "        self.start_time = start_time\n",
    "        self.stop_time = stop_time\n",
    "        self.sig = sig\n",
    "\n",
    "    def plot_time(self):\n",
    "        time = np.arange(self.start_time, self.stop_time, 1 / self.srate)\n",
    "        start_ind = int(self.start_time * self.srate)\n",
    "        stop_ind = int(self.stop_time * self.srate)\n",
    "        sig_plotted = self.sig[start_ind:stop_ind]\n",
    "        \n",
    "        fig, ax = plt.subplots()\n",
    "        ax.plot(time, sig_plotted)\n",
    "        plt.show()\n",
    "        \n",
    "    def plot_psd(self, wsize=5):\n",
    "        start_ind = int(self.start_time * self.srate)\n",
    "        stop_ind = int(self.stop_time * self.srate)\n",
    "        sig_computed = self.sig[start_ind:stop_ind]\n",
    "        nperseg = int(self.srate * wsize)\n",
    "        f, Pxx = scipy.signal.welch(sig_computed, fs=self.srate, nperseg=nperseg)\n",
    "        \n",
    "        fig, ax = plt.subplots()\n",
    "        ax.plot(f, Pxx)\n",
    "        plt.show()\n"
   ]
  },
  {
   "cell_type": "code",
   "execution_count": 13,
   "metadata": {},
   "outputs": [],
   "source": [
    "signal = Signal_Processing(sig, srate, 10 , 20)"
   ]
  },
  {
   "cell_type": "code",
   "execution_count": 14,
   "metadata": {},
   "outputs": [
    {
     "data": {
      "application/vnd.jupyter.widget-view+json": {
       "model_id": "b7d741284287458792dde71a5974deca",
       "version_major": 2,
       "version_minor": 0
      },
      "image/png": "[encoded data removed]",
      "text/html": [
       "\n",
       "            <div style=\"display: inline-block;\">\n",
       "                <div class=\"jupyter-widgets widget-label\" style=\"text-align: center;\">\n",
       "                    Figure\n",
       "                </div>\n",
       "                <img src='data:image/png;base64,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' width=640.0/>\n",
       "            </div>\n",
       "        "
      ],
      "text/plain": [
       "Canvas(toolbar=Toolbar(toolitems=[('Home', 'Reset original view', 'home', 'home'), ('Back', 'Back to previous …"
      ]
     },
     "metadata": {},
     "output_type": "display_data"
    }
   ],
   "source": [
    "signal.plot_time()"
   ]
  },
  {
   "cell_type": "code",
   "execution_count": 17,
   "metadata": {},
   "outputs": [
    {
     "data": {
      "application/vnd.jupyter.widget-view+json": {
       "model_id": "541754180b1d4c2c92a3b06b7e91060d",
       "version_major": 2,
       "version_minor": 0
      },
      "image/png": "[encoded data removed]",
      "text/html": [
       "\n",
       "            <div style=\"display: inline-block;\">\n",
       "                <div class=\"jupyter-widgets widget-label\" style=\"text-align: center;\">\n",
       "                    Figure\n",
       "                </div>\n",
       "                <img src='data:image/png;base64,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' width=640.0/>\n",
       "            </div>\n",
       "        "
      ],
      "text/plain": [
       "Canvas(toolbar=Toolbar(toolitems=[('Home', 'Reset original view', 'home', 'home'), ('Back', 'Back to previous …"
      ]
     },
     "metadata": {},
     "output_type": "display_data"
    }
   ],
   "source": [
    "signal.plot_psd()"
   ]
  },
  {
   "cell_type": "markdown",
   "metadata": {},
   "source": [
    "# FROM MORLET WAVELETS TO TIME-FREQUENCY AMPLITUDE MAPS"
   ]
  },
  {
   "cell_type": "code",
   "execution_count": 3,
   "metadata": {},
   "outputs": [],
   "source": [
    "from tools import *"
   ]
  },
  {
   "cell_type": "code",
   "execution_count": 23,
   "metadata": {},
   "outputs": [
    {
     "data": {
      "application/vnd.jupyter.widget-view+json": {
       "model_id": "a7e1e609b1684d88be19cabb6a679811",
       "version_major": 2,
       "version_minor": 0
      },
      "image/png": "[encoded data removed]",
      "text/html": [
       "\n",
       "            <div style=\"display: inline-block;\">\n",
       "                <div class=\"jupyter-widgets widget-label\" style=\"text-align: center;\">\n",
       "                    Figure\n",
       "                </div>\n",
       "                <img src='data:image/png;base64,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' width=640.0/>\n",
       "            </div>\n",
       "        "
      ],
      "text/plain": [
       "Canvas(toolbar=Toolbar(toolitems=[('Home', 'Reset original view', 'home', 'home'), ('Back', 'Back to previous …"
      ]
     },
     "metadata": {},
     "output_type": "display_data"
    }
   ],
   "source": [
    "srate = 100\n",
    "time_sig1 = np.arange(-5 , 5 , 1/srate)\n",
    "freq_burst1 = 8\n",
    "amplitude_burst1 = 1.5\n",
    "sig1 = np.real(complex_mw(time_sig1, 10 , freq_burst1, a= amplitude_burst1, m = 0))\n",
    "\n",
    "time_sig2 = np.arange(-5 , 5 , 1/srate)\n",
    "freq_burst2 = 2\n",
    "amplitude_burst1 = 2\n",
    "sig2 = np.real(complex_mw(time_sig1, 10 , freq_burst2, a= amplitude_burst1, m = 0))\n",
    "\n",
    "sig = np.concatenate([sig1, sig2], axis = 0)\n",
    "time = np.arange(0 , sig.size/srate, 1 / srate)\n",
    "\n",
    "fig, ax = plt.subplots()\n",
    "ax.plot(time, sig)\n",
    "plt.show()"
   ]
  },
  {
   "cell_type": "code",
   "execution_count": 24,
   "metadata": {},
   "outputs": [],
   "source": [
    "f_start = 1\n",
    "f_stop = 10\n",
    "n_steps = 20\n",
    "n_cycles = 10\n",
    "\n",
    "amplitude_exponent = 1"
   ]
  },
  {
   "cell_type": "code",
   "execution_count": 25,
   "metadata": {},
   "outputs": [],
   "source": [
    "freqs, family = morlet_family(srate, f_start = f_start, f_stop = f_stop, n_steps = n_steps, n_cycles = n_cycles)\n",
    "sigs = np.tile(sig, (n_steps,1))\n",
    "tf = signal.fftconvolve(sigs, family, mode = 'same', axes = 1)\n",
    "power = np.abs(tf) ** amplitude_exponent"
   ]
  },
  {
   "cell_type": "code",
   "execution_count": 30,
   "metadata": {},
   "outputs": [
    {
     "data": {
      "application/vnd.jupyter.widget-view+json": {
       "model_id": "f36a27b9d2ce4217b1a420b3f4e5b0b4",
       "version_major": 2,
       "version_minor": 0
      },
      "image/png": "[encoded data removed]",
      "text/html": [
       "\n",
       "            <div style=\"display: inline-block;\">\n",
       "                <div class=\"jupyter-widgets widget-label\" style=\"text-align: center;\">\n",
       "                    Figure\n",
       "                </div>\n",
       "                <img src='data:image/png;base64,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' width=640.0/>\n",
       "            </div>\n",
       "        "
      ],
      "text/plain": [
       "Canvas(toolbar=Toolbar(toolitems=[('Home', 'Reset original view', 'home', 'home'), ('Back', 'Back to previous …"
      ]
     },
     "metadata": {},
     "output_type": "display_data"
    }
   ],
   "source": [
    "q = 0.015\n",
    "vmin = np.quantile(power, q)\n",
    "vmax = np.quantile(power, 1-q)\n",
    "\n",
    "fig, axs = plt.subplots(nrows = 2)\n",
    "ax = axs[0]\n",
    "ax.plot(time, sig)\n",
    "ax = axs[1]\n",
    "im = ax.pcolormesh(time, freqs, power, vmin=vmin, vmax=vmax)\n",
    "\n",
    "for ax in axs:\n",
    "    ax.set_xlim(0,20)\n",
    "# fig.colorbar(im, ax=ax)\n",
    "plt.show()"
   ]
  },
  {
   "cell_type": "markdown",
   "metadata": {},
   "source": [
    "# PANDAS ANALYSIS OF CSD"
   ]
  },
  {
   "cell_type": "code",
   "execution_count": 14,
   "metadata": {},
   "outputs": [
    {
     "data": {
      "text/plain": [
       "'/mnt/autofs/tiger/baptiste.balanca/Neuro_rea_monitorage/scripts_analyse_physio_neuro_rea'"
      ]
     },
     "execution_count": 14,
     "metadata": {},
     "output_type": "execute_result"
    }
   ],
   "source": [
    "os.getcwd()"
   ]
  },
  {
   "cell_type": "code",
   "execution_count": 15,
   "metadata": {},
   "outputs": [
    {
     "name": "stdout",
     "output_type": "stream",
     "text": [
      "    ID birth_date   age electrodes_type sex injury_type                events  \\\n",
      "0  HA1 1963-05-14  57.0           strip   F         HSA    2021/1/2 08h37m35s   \n",
      "1  HA1 1963-05-14  57.0           strip   F         HSA  2021/1/2 13h31min54s   \n",
      "2  HA1 1963-05-14  57.0           strip   F         HSA    2021/1/2 14h31m41s   \n",
      "3  HA1 1963-05-14  57.0           strip   F         HSA    2021/1/2 16h01m15s   \n",
      "4  HA1 1963-05-14  57.0           strip   F         HSA  2021/1/2 18h14min24s   \n",
      "\n",
      "  time_of_event_viewer time_delta end_of_event  \\\n",
      "0             07:22:00  1h avant      07:40:00   \n",
      "1             12:31:00  1h avant      13:00:00   \n",
      "2             13:31:00  1h avant      13:45:00   \n",
      "3             14:30:00  1h avant      15:00:00   \n",
      "4             17:14:00  1h avant      17:40:00   \n",
      "\n",
      "                   heart_rate_variability  \\\n",
      "0       Baisse 7h17-7h20 puis pendant CSD   \n",
      "1                            Augmentation   \n",
      "2  Augmentation pendant CSD\\n puis baisse   \n",
      "3                Augmentation pendant CSD   \n",
      "4                                 Baisse    \n",
      "\n",
      "             respiratory_rate_variability intracranial_pressure  \\\n",
      "0                              Non (VAC?)         Augmentation    \n",
      "1                            Augmentation         Augmentation    \n",
      "2  Augmentation pendant CSD\\n puis baisse  Augmentation, labile   \n",
      "3                Augmentation pendant CSD  Augmentation, labile   \n",
      "4                                     Non  Augmentation, labile   \n",
      "\n",
      "  arterial_blood_pressure    AC_signal Durée dépression  \\\n",
      "0           Augmentation           Non         00:18:00   \n",
      "1           Augmentation    Dépression         00:29:00   \n",
      "2    Augmentation, labile  Dépression          00:14:00   \n",
      "3    Augmentation, labile   Dépression         00:30:00   \n",
      "4    Augmentation, labile   Dépression         00:26:00   \n",
      "\n",
      "  Durée totale dépression                                        Unnamed: 17  \n",
      "0                16:14:00                                                NaN  \n",
      "1             ajouter 12h                                                NaN  \n",
      "2                     NaN                                                NaN  \n",
      "3                     NaN  à noter, patient avec tracé en dépression du 0...  \n",
      "4                     NaN                                                NaN  \n",
      "       ID birth_date   age electrodes_type sex injury_type  \\\n",
      "202  PL20 1972-07-02  50.0           depth   F         HSA   \n",
      "203  MR21 1974-11-12  48.0        depth-SD   H          TC   \n",
      "204  MR21 1974-11-12  49.0        depth-SD   H          TC   \n",
      "205  MR21 1974-11-12  50.0        depth-SD   H          TC   \n",
      "206   P57 1959-05-05  64.0        depth-SD   F         HSA   \n",
      "\n",
      "                                                events time_of_event_viewer  \\\n",
      "202                                2023-03-22 13:45:34             12:54:00   \n",
      "203                                2023-03-24 20:15:14             19:15:00   \n",
      "204                                2023-03-25 18:20:31             17:20:00   \n",
      "205                                2023-03-26 01:45:46             00:45:00   \n",
      "206  Depth EEG non dispo sur viewer \\n(pas de strea...                  NaN   \n",
      "\n",
      "    time_delta end_of_event heart_rate_variability  \\\n",
      "202   1h avant     12:57:00           Augmentation   \n",
      "203  1h avant      19:25:00           Augmentation   \n",
      "204  1h avant      17:26:00                    Non   \n",
      "205  1h avant            ??     (doute sur CSD ??)   \n",
      "206        NaN          NaN                    NaN   \n",
      "\n",
      "    respiratory_rate_variability  \\\n",
      "202                 Augmentation   \n",
      "203                 Indisponible   \n",
      "204                 Indisponible   \n",
      "205                          NaN   \n",
      "206                          NaN   \n",
      "\n",
      "                               intracranial_pressure arterial_blood_pressure  \\\n",
      "202                                              Non            Indisponible   \n",
      "203  Non, mais perte variabilité \\ndurant dépression                  Baisse   \n",
      "204                                              Non                     Non   \n",
      "205                                              NaN                     NaN   \n",
      "206                                              NaN                     NaN   \n",
      "\n",
      "      AC_signal Durée dépression Durée totale dépression Unnamed: 17  \n",
      "202         Non         00:03:00                00:03:00         NaN  \n",
      "203  Dépression         00:10:00                00:16:00         NaN  \n",
      "204  Dépression         00:06:00                     NaN         NaN  \n",
      "205         NaN              NaN                     NaN         NaN  \n",
      "206         NaN              NaN                     NaN         NaN  \n"
     ]
    }
   ],
   "source": [
    "data_path = '/crnldata/tiger/baptiste.balanca/Neuro_rea_monitorage/'\n",
    "pd_csd = pd.read_excel(data_path + 'CSD_tronc_cerebral_python.xlsx')\n",
    "print(pd_csd.head())\n",
    "print(pd_csd.tail())"
   ]
  },
  {
   "cell_type": "code",
   "execution_count": 5,
   "metadata": {},
   "outputs": [
    {
     "name": "stdout",
     "output_type": "stream",
     "text": [
      "<class 'pandas.core.frame.DataFrame'>\n",
      "RangeIndex: 207 entries, 0 to 206\n",
      "Columns: 18 entries, ID to Unnamed: 17\n",
      "dtypes: datetime64[ns](1), float64(1), object(16)\n",
      "memory usage: 29.2+ KB\n"
     ]
    }
   ],
   "source": [
    "pd_csd.info(verbose=False) "
   ]
  },
  {
   "cell_type": "code",
   "execution_count": 6,
   "metadata": {},
   "outputs": [
    {
     "data": {
      "text/html": [
       "<div>\n",
       "<style scoped>\n",
       "    .dataframe tbody tr th:only-of-type {\n",
       "        vertical-align: middle;\n",
       "    }\n",
       "\n",
       "    .dataframe tbody tr th {\n",
       "        vertical-align: top;\n",
       "    }\n",
       "\n",
       "    .dataframe thead th {\n",
       "        text-align: right;\n",
       "    }\n",
       "</style>\n",
       "<table border=\"1\" class=\"dataframe\">\n",
       "  <thead>\n",
       "    <tr style=\"text-align: right;\">\n",
       "      <th></th>\n",
       "      <th>birth_date</th>\n",
       "      <th>age</th>\n",
       "    </tr>\n",
       "  </thead>\n",
       "  <tbody>\n",
       "    <tr>\n",
       "      <th>count</th>\n",
       "      <td>207</td>\n",
       "      <td>203.000000</td>\n",
       "    </tr>\n",
       "    <tr>\n",
       "      <th>mean</th>\n",
       "      <td>1964-07-27 11:21:44.347826080</td>\n",
       "      <td>57.251232</td>\n",
       "    </tr>\n",
       "    <tr>\n",
       "      <th>min</th>\n",
       "      <td>1952-12-24 00:00:00</td>\n",
       "      <td>30.000000</td>\n",
       "    </tr>\n",
       "    <tr>\n",
       "      <th>25%</th>\n",
       "      <td>1961-04-21 00:00:00</td>\n",
       "      <td>55.000000</td>\n",
       "    </tr>\n",
       "    <tr>\n",
       "      <th>50%</th>\n",
       "      <td>1963-05-14 00:00:00</td>\n",
       "      <td>57.000000</td>\n",
       "    </tr>\n",
       "    <tr>\n",
       "      <th>75%</th>\n",
       "      <td>1966-06-26 00:00:00</td>\n",
       "      <td>62.500000</td>\n",
       "    </tr>\n",
       "    <tr>\n",
       "      <th>max</th>\n",
       "      <td>1992-03-02 00:00:00</td>\n",
       "      <td>68.000000</td>\n",
       "    </tr>\n",
       "    <tr>\n",
       "      <th>std</th>\n",
       "      <td>NaN</td>\n",
       "      <td>8.058016</td>\n",
       "    </tr>\n",
       "  </tbody>\n",
       "</table>\n",
       "</div>"
      ],
      "text/plain": [
       "                          birth_date         age\n",
       "count                            207  203.000000\n",
       "mean   1964-07-27 11:21:44.347826080   57.251232\n",
       "min              1952-12-24 00:00:00   30.000000\n",
       "25%              1961-04-21 00:00:00   55.000000\n",
       "50%              1963-05-14 00:00:00   57.000000\n",
       "75%              1966-06-26 00:00:00   62.500000\n",
       "max              1992-03-02 00:00:00   68.000000\n",
       "std                              NaN    8.058016"
      ]
     },
     "execution_count": 6,
     "metadata": {},
     "output_type": "execute_result"
    }
   ],
   "source": [
    "pd_csd.describe()"
   ]
  },
  {
   "cell_type": "code",
   "execution_count": 7,
   "metadata": {},
   "outputs": [
    {
     "data": {
      "text/plain": [
       "<bound method DataFrame.info of        ID birth_date   age electrodes_type sex injury_type  \\\n",
       "0     HA1 1963-05-14  57.0           strip   F         HSA   \n",
       "1     HA1 1963-05-14  57.0           strip   F         HSA   \n",
       "2     HA1 1963-05-14  57.0           strip   F         HSA   \n",
       "3     HA1 1963-05-14  57.0           strip   F         HSA   \n",
       "4     HA1 1963-05-14  57.0           strip   F         HSA   \n",
       "..    ...        ...   ...             ...  ..         ...   \n",
       "202  PL20 1972-07-02  50.0           depth   F         HSA   \n",
       "203  MR21 1974-11-12  48.0        depth-SD   H          TC   \n",
       "204  MR21 1974-11-12  49.0        depth-SD   H          TC   \n",
       "205  MR21 1974-11-12  50.0        depth-SD   H          TC   \n",
       "206   P57 1959-05-05  64.0        depth-SD   F         HSA   \n",
       "\n",
       "                                                events time_of_event_viewer  \\\n",
       "0                                   2021/1/2 08h37m35s             07:22:00   \n",
       "1                                 2021/1/2 13h31min54s             12:31:00   \n",
       "2                                   2021/1/2 14h31m41s             13:31:00   \n",
       "3                                   2021/1/2 16h01m15s             14:30:00   \n",
       "4                                 2021/1/2 18h14min24s             17:14:00   \n",
       "..                                                 ...                  ...   \n",
       "202                                2023-03-22 13:45:34             12:54:00   \n",
       "203                                2023-03-24 20:15:14             19:15:00   \n",
       "204                                2023-03-25 18:20:31             17:20:00   \n",
       "205                                2023-03-26 01:45:46             00:45:00   \n",
       "206  Depth EEG non dispo sur viewer \\n(pas de strea...                  NaN   \n",
       "\n",
       "    time_delta end_of_event                  heart_rate_variability  \\\n",
       "0    1h avant      07:40:00       Baisse 7h17-7h20 puis pendant CSD   \n",
       "1    1h avant      13:00:00                            Augmentation   \n",
       "2    1h avant      13:45:00  Augmentation pendant CSD\\n puis baisse   \n",
       "3    1h avant      15:00:00                Augmentation pendant CSD   \n",
       "4    1h avant      17:40:00                                 Baisse    \n",
       "..         ...          ...                                     ...   \n",
       "202   1h avant     12:57:00                            Augmentation   \n",
       "203  1h avant      19:25:00                            Augmentation   \n",
       "204  1h avant      17:26:00                                     Non   \n",
       "205  1h avant            ??                      (doute sur CSD ??)   \n",
       "206        NaN          NaN                                     NaN   \n",
       "\n",
       "               respiratory_rate_variability  \\\n",
       "0                                Non (VAC?)   \n",
       "1                              Augmentation   \n",
       "2    Augmentation pendant CSD\\n puis baisse   \n",
       "3                  Augmentation pendant CSD   \n",
       "4                                       Non   \n",
       "..                                      ...   \n",
       "202                            Augmentation   \n",
       "203                            Indisponible   \n",
       "204                            Indisponible   \n",
       "205                                     NaN   \n",
       "206                                     NaN   \n",
       "\n",
       "                               intracranial_pressure arterial_blood_pressure  \\\n",
       "0                                      Augmentation            Augmentation    \n",
       "1                                      Augmentation            Augmentation    \n",
       "2                               Augmentation, labile    Augmentation, labile   \n",
       "3                               Augmentation, labile    Augmentation, labile   \n",
       "4                               Augmentation, labile    Augmentation, labile   \n",
       "..                                               ...                     ...   \n",
       "202                                              Non            Indisponible   \n",
       "203  Non, mais perte variabilité \\ndurant dépression                  Baisse   \n",
       "204                                              Non                     Non   \n",
       "205                                              NaN                     NaN   \n",
       "206                                              NaN                     NaN   \n",
       "\n",
       "       AC_signal Durée dépression Durée totale dépression  \\\n",
       "0            Non         00:18:00                16:14:00   \n",
       "1     Dépression         00:29:00             ajouter 12h   \n",
       "2    Dépression          00:14:00                     NaN   \n",
       "3     Dépression         00:30:00                     NaN   \n",
       "4     Dépression         00:26:00                     NaN   \n",
       "..           ...              ...                     ...   \n",
       "202          Non         00:03:00                00:03:00   \n",
       "203   Dépression         00:10:00                00:16:00   \n",
       "204   Dépression         00:06:00                     NaN   \n",
       "205          NaN              NaN                     NaN   \n",
       "206          NaN              NaN                     NaN   \n",
       "\n",
       "                                           Unnamed: 17  \n",
       "0                                                  NaN  \n",
       "1                                                  NaN  \n",
       "2                                                  NaN  \n",
       "3    à noter, patient avec tracé en dépression du 0...  \n",
       "4                                                  NaN  \n",
       "..                                                 ...  \n",
       "202                                                NaN  \n",
       "203                                                NaN  \n",
       "204                                                NaN  \n",
       "205                                                NaN  \n",
       "206                                                NaN  \n",
       "\n",
       "[207 rows x 18 columns]>"
      ]
     },
     "execution_count": 7,
     "metadata": {},
     "output_type": "execute_result"
    }
   ],
   "source": [
    "pd_csd.info"
   ]
  },
  {
   "cell_type": "code",
   "execution_count": 8,
   "metadata": {},
   "outputs": [
    {
     "data": {
      "text/plain": [
       "Index(['ID', 'birth_date', 'age', 'electrodes_type', 'sex', 'injury_type',\n",
       "       'events', 'time_of_event_viewer', 'time_delta', 'end_of_event',\n",
       "       'heart_rate_variability', 'respiratory_rate_variability',\n",
       "       'intracranial_pressure', 'arterial_blood_pressure', 'AC_signal',\n",
       "       'Durée dépression', 'Durée totale dépression', 'Unnamed: 17'],\n",
       "      dtype='object')"
      ]
     },
     "execution_count": 8,
     "metadata": {},
     "output_type": "execute_result"
    }
   ],
   "source": [
    "pd_csd.columns"
   ]
  },
  {
   "cell_type": "markdown",
   "metadata": {},
   "source": [
    "## Age and injury description "
   ]
  },
  {
   "cell_type": "code",
   "execution_count": 9,
   "metadata": {},
   "outputs": [
    {
     "data": {
      "text/html": [
       "<div>\n",
       "<style scoped>\n",
       "    .dataframe tbody tr th:only-of-type {\n",
       "        vertical-align: middle;\n",
       "    }\n",
       "\n",
       "    .dataframe tbody tr th {\n",
       "        vertical-align: top;\n",
       "    }\n",
       "\n",
       "    .dataframe thead th {\n",
       "        text-align: right;\n",
       "    }\n",
       "</style>\n",
       "<table border=\"1\" class=\"dataframe\">\n",
       "  <thead>\n",
       "    <tr style=\"text-align: right;\">\n",
       "      <th></th>\n",
       "      <th>age</th>\n",
       "    </tr>\n",
       "  </thead>\n",
       "  <tbody>\n",
       "    <tr>\n",
       "      <th>min</th>\n",
       "      <td>30.000000</td>\n",
       "    </tr>\n",
       "    <tr>\n",
       "      <th>max</th>\n",
       "      <td>68.000000</td>\n",
       "    </tr>\n",
       "    <tr>\n",
       "      <th>mean</th>\n",
       "      <td>57.251232</td>\n",
       "    </tr>\n",
       "    <tr>\n",
       "      <th>median</th>\n",
       "      <td>57.000000</td>\n",
       "    </tr>\n",
       "    <tr>\n",
       "      <th>std</th>\n",
       "      <td>8.058016</td>\n",
       "    </tr>\n",
       "  </tbody>\n",
       "</table>\n",
       "</div>"
      ],
      "text/plain": [
       "              age\n",
       "min     30.000000\n",
       "max     68.000000\n",
       "mean    57.251232\n",
       "median  57.000000\n",
       "std      8.058016"
      ]
     },
     "execution_count": 9,
     "metadata": {},
     "output_type": "execute_result"
    }
   ],
   "source": [
    "pd_csd[['age']]. agg(['min', 'max', 'mean', 'median', 'std'])"
   ]
  },
  {
   "cell_type": "code",
   "execution_count": 11,
   "metadata": {},
   "outputs": [
    {
     "data": {
      "text/html": [
       "<div>\n",
       "<style scoped>\n",
       "    .dataframe tbody tr th:only-of-type {\n",
       "        vertical-align: middle;\n",
       "    }\n",
       "\n",
       "    .dataframe tbody tr th {\n",
       "        vertical-align: top;\n",
       "    }\n",
       "\n",
       "    .dataframe thead th {\n",
       "        text-align: right;\n",
       "    }\n",
       "</style>\n",
       "<table border=\"1\" class=\"dataframe\">\n",
       "  <thead>\n",
       "    <tr style=\"text-align: right;\">\n",
       "      <th></th>\n",
       "      <th>time_of_event_viewer</th>\n",
       "      <th>end_of_event</th>\n",
       "    </tr>\n",
       "  </thead>\n",
       "  <tbody>\n",
       "    <tr>\n",
       "      <th>0</th>\n",
       "      <td>07:22:00</td>\n",
       "      <td>07:40:00</td>\n",
       "    </tr>\n",
       "    <tr>\n",
       "      <th>1</th>\n",
       "      <td>12:31:00</td>\n",
       "      <td>13:00:00</td>\n",
       "    </tr>\n",
       "    <tr>\n",
       "      <th>2</th>\n",
       "      <td>13:31:00</td>\n",
       "      <td>13:45:00</td>\n",
       "    </tr>\n",
       "    <tr>\n",
       "      <th>3</th>\n",
       "      <td>14:30:00</td>\n",
       "      <td>15:00:00</td>\n",
       "    </tr>\n",
       "    <tr>\n",
       "      <th>4</th>\n",
       "      <td>17:14:00</td>\n",
       "      <td>17:40:00</td>\n",
       "    </tr>\n",
       "    <tr>\n",
       "      <th>...</th>\n",
       "      <td>...</td>\n",
       "      <td>...</td>\n",
       "    </tr>\n",
       "    <tr>\n",
       "      <th>202</th>\n",
       "      <td>12:54:00</td>\n",
       "      <td>12:57:00</td>\n",
       "    </tr>\n",
       "    <tr>\n",
       "      <th>203</th>\n",
       "      <td>19:15:00</td>\n",
       "      <td>19:25:00</td>\n",
       "    </tr>\n",
       "    <tr>\n",
       "      <th>204</th>\n",
       "      <td>17:20:00</td>\n",
       "      <td>17:26:00</td>\n",
       "    </tr>\n",
       "    <tr>\n",
       "      <th>205</th>\n",
       "      <td>00:45:00</td>\n",
       "      <td>??</td>\n",
       "    </tr>\n",
       "    <tr>\n",
       "      <th>206</th>\n",
       "      <td>NaN</td>\n",
       "      <td>NaN</td>\n",
       "    </tr>\n",
       "  </tbody>\n",
       "</table>\n",
       "<p>207 rows × 2 columns</p>\n",
       "</div>"
      ],
      "text/plain": [
       "    time_of_event_viewer end_of_event\n",
       "0               07:22:00     07:40:00\n",
       "1               12:31:00     13:00:00\n",
       "2               13:31:00     13:45:00\n",
       "3               14:30:00     15:00:00\n",
       "4               17:14:00     17:40:00\n",
       "..                   ...          ...\n",
       "202             12:54:00     12:57:00\n",
       "203             19:15:00     19:25:00\n",
       "204             17:20:00     17:26:00\n",
       "205             00:45:00           ??\n",
       "206                  NaN          NaN\n",
       "\n",
       "[207 rows x 2 columns]"
      ]
     },
     "execution_count": 11,
     "metadata": {},
     "output_type": "execute_result"
    }
   ],
   "source": [
    "pd_csd[['time_of_event_viewer', 'end_of_event']] "
   ]
  },
  {
   "cell_type": "code",
   "execution_count": null,
   "metadata": {},
   "outputs": [],
   "source": []
  },
  {
   "cell_type": "markdown",
   "metadata": {},
   "source": [
    "# METRICS ANALYSIS HRV, RR VARIABILITY, RSA "
   ]
  },
  {
   "cell_type": "code",
   "execution_count": 2,
   "metadata": {},
   "outputs": [
    {
     "data": {
      "text/plain": [
       "{'SpO2': CnsStream SpO2  rate:1Hz  shape:(1005280,),\n",
       " 'CPP': CnsStream CPP  rate:1Hz  shape:(1016024,),\n",
       " 'ICP': CnsStream ICP  rate:123Hz  shape:(132683712,),\n",
       " 'EEG_NeonatalParams': CnsStream EEG_NeonatalParams  rate:2Hz  shape:(2130785, 16),\n",
       " 'EtCO2': CnsStream EtCO2  rate:1Hz  shape:(804824,),\n",
       " 'ABP_Syst': CnsStream ABP_Syst  rate:1Hz  shape:(1012763,),\n",
       " 'HR': CnsStream HR  rate:1Hz  shape:(1005433,),\n",
       " 'ECG_II': CnsStream ECG_II  rate:497Hz  shape:(530736080,),\n",
       " 'ABP': CnsStream ABP  rate:124Hz  shape:(132669540,),\n",
       " 'CO2': CnsStream CO2  rate:124Hz  shape:(133133968,),\n",
       " 'ABP_Mean': CnsStream ABP_Mean  rate:1Hz  shape:(1016116,),\n",
       " 'EEG': CnsStream EEG  rate:256Hz  shape:(272723008, 19),\n",
       " 'EEG_Impedance': CnsStream EEG_Impedance  rate:1Hz  shape:(1065321, 22),\n",
       " 'Temp': CnsStream Temp  rate:1Hz  shape:(934935,),\n",
       " 'ABP_Dias': CnsStream ABP_Dias  rate:1Hz  shape:(1012763,),\n",
       " 'PLETH': CnsStream PLETH  rate:124Hz  shape:(132667848,),\n",
       " 'ICP_Mean': CnsStream ICP_Mean  rate:1Hz  shape:(1016767,),\n",
       " 'RESP': CnsStream RESP  rate:62Hz  shape:(49233148,)}"
      ]
     },
     "execution_count": 2,
     "metadata": {},
     "output_type": "execute_result"
    }
   ],
   "source": [
    "patient_id = 'HA1'\n",
    "raw_folder = data_path / patient_id\n",
    "cns_reader = CnsReader(raw_folder)\n",
    "\n",
    "cns_reader.streams"
   ]
  },
  {
   "cell_type": "markdown",
   "metadata": {},
   "source": [
    "## Define Time Window : Baseline / Per_CSD / Post_CSD / 5mins_bins_after_csd\n",
    "\n",
    "L'objectif est de définir une baseline avant que la CSD ne survienne. En prenant en compte le fait que les ECoG se situent à un endroit très focal sur le cerveau, il est possible que l'on enregistre pas en temps réel le début de la CSD. Il peut donc exister un delta temps entre ce qu'on observe sur l'iEEG et ce qu'il s'est passé juste à côté. \n",
    "\n",
    "per_csd_window: 5min avant - 5min après \n",
    "\n",
    "baseline: 15min avant la variable per_csd\n",
    "\n",
    "post_CSD_window: 15min après? à adapter selon ce qu'on observe mais généralement on voit rapidement un arrêt des modifications une fois la dépression terminée -> à analyser sur des bins de 5 min pour être cohérent méthodologiquement\n",
    "\n",
    "bins_after_CSD: Réaliser des bins de 5min après la fin de la CSD afin de mesurer ce qu'il se passe une fois la CSD terminée \n",
    "\n",
    "Ne pas oublier de caractériser les CSD / iSD / cluster "
   ]
  },
  {
   "cell_type": "code",
   "execution_count": 3,
   "metadata": {},
   "outputs": [],
   "source": [
    "num_csd = 1\n",
    "start_csd = \"2021-01-02T07:20:00\" # Onset of SD observed on the first electrode to record it\n",
    "stop_csd = \"2021-01-02T07:40:00\" # End of depression \n",
    "\n",
    "# per_window_csd: Window 5 minutes before and after CSD\n",
    "window_duration = 5\n",
    "start_win_before = np.datetime64(start_csd) - np.timedelta64(window_duration, 'm')\n",
    "stop_win_after = np.datetime64(stop_csd) + np.timedelta64(window_duration, 'm')\n",
    "\n",
    "# Baseline window 10-15 minutes before CSD\n",
    "baseline_window = start_win_before - np.timedelta64(15, 'm')\n",
    "\n",
    "# Window 5, 10, 15 minutes after CSD (to adjust if needed based on observations)\n",
    "window_duration_after_5 = 5\n",
    "after_window_5 = stop_win_after + np.timedelta64(window_duration_after_5, 'm')\n",
    "\n",
    "window_duration_after_10 = 10\n",
    "after_window_10 = stop_win_after + np.timedelta64(window_duration_after_10, 'm')\n",
    "\n",
    "window_duration_after_15 = 15\n",
    "after_window_15 = stop_win_after + np.timedelta64(window_duration_after_15, 'm')\n",
    "\n",
    "windows = {\n",
    "    'baseline': (baseline_window, start_win_before),\n",
    "    'per_csd': (start_win_before, stop_win_after),\n",
    "    'after_csd_5min': (stop_win_after, after_window_5),\n",
    "    'after_csd_10min': (stop_win_after, after_window_10),\n",
    "    'after_csd_15min': (stop_win_after, after_window_15),\n",
    "    }\n",
    "\n",
    "# Baseline 15min avant CSD \n",
    "# Fenêtre 5min avant / 5min après CSD\n",
    "# Fenêtre 15min après à ajuster selon les observations \n",
    "# Réaliser bins de 5 min après CSD/iSD  \n",
    "# Characterize CSD isolated, CSD in cluster, iSD"
   ]
  },
  {
   "cell_type": "markdown",
   "metadata": {},
   "source": [
    "## ECG "
   ]
  },
  {
   "cell_type": "code",
   "execution_count": 4,
   "metadata": {},
   "outputs": [],
   "source": [
    "# ECG signal processing + Detect ECG R peaks \n",
    "ecg_stream = cns_reader.streams['ECG_II']\n",
    "dates = ecg_stream.get_times()\n",
    "ecg, r_peaks = detect_ecg_peak(ecg_stream)\n",
    "r_peaks['peak_date'] = dates[r_peaks['peak_index']]"
   ]
  },
  {
   "cell_type": "code",
   "execution_count": 5,
   "metadata": {},
   "outputs": [
    {
     "data": {
      "text/html": [
       "<div>\n",
       "<style scoped>\n",
       "    .dataframe tbody tr th:only-of-type {\n",
       "        vertical-align: middle;\n",
       "    }\n",
       "\n",
       "    .dataframe tbody tr th {\n",
       "        vertical-align: top;\n",
       "    }\n",
       "\n",
       "    .dataframe thead th {\n",
       "        text-align: right;\n",
       "    }\n",
       "</style>\n",
       "<table border=\"1\" class=\"dataframe\">\n",
       "  <thead>\n",
       "    <tr style=\"text-align: right;\">\n",
       "      <th></th>\n",
       "      <th>peak_index</th>\n",
       "      <th>peak_time</th>\n",
       "      <th>peak_date</th>\n",
       "    </tr>\n",
       "  </thead>\n",
       "  <tbody>\n",
       "    <tr>\n",
       "      <th>count</th>\n",
       "      <td>1.273512e+06</td>\n",
       "      <td>1.273512e+06</td>\n",
       "      <td>1273512</td>\n",
       "    </tr>\n",
       "    <tr>\n",
       "      <th>mean</th>\n",
       "      <td>2.627285e+08</td>\n",
       "      <td>5.281882e+05</td>\n",
       "      <td>2021-01-08 06:09:16.258394</td>\n",
       "    </tr>\n",
       "    <tr>\n",
       "      <th>min</th>\n",
       "      <td>2.070000e+02</td>\n",
       "      <td>4.161519e-01</td>\n",
       "      <td>2021-01-02 02:31:05.879485</td>\n",
       "    </tr>\n",
       "    <tr>\n",
       "      <th>25%</th>\n",
       "      <td>1.231304e+08</td>\n",
       "      <td>2.475408e+05</td>\n",
       "      <td>2021-01-05 00:00:44.333494</td>\n",
       "    </tr>\n",
       "    <tr>\n",
       "      <th>50%</th>\n",
       "      <td>2.652928e+08</td>\n",
       "      <td>5.333435e+05</td>\n",
       "      <td>2021-01-08 08:09:23.249818</td>\n",
       "    </tr>\n",
       "    <tr>\n",
       "      <th>75%</th>\n",
       "      <td>4.007245e+08</td>\n",
       "      <td>8.056150e+05</td>\n",
       "      <td>2021-01-11 11:25:49.897360</td>\n",
       "    </tr>\n",
       "    <tr>\n",
       "      <th>max</th>\n",
       "      <td>5.307358e+08</td>\n",
       "      <td>1.066989e+06</td>\n",
       "      <td>2021-01-14 11:41:35.506368</td>\n",
       "    </tr>\n",
       "    <tr>\n",
       "      <th>std</th>\n",
       "      <td>1.567094e+08</td>\n",
       "      <td>3.150479e+05</td>\n",
       "      <td>NaN</td>\n",
       "    </tr>\n",
       "  </tbody>\n",
       "</table>\n",
       "</div>"
      ],
      "text/plain": [
       "         peak_index     peak_time                   peak_date\n",
       "count  1.273512e+06  1.273512e+06                     1273512\n",
       "mean   2.627285e+08  5.281882e+05  2021-01-08 06:09:16.258394\n",
       "min    2.070000e+02  4.161519e-01  2021-01-02 02:31:05.879485\n",
       "25%    1.231304e+08  2.475408e+05  2021-01-05 00:00:44.333494\n",
       "50%    2.652928e+08  5.333435e+05  2021-01-08 08:09:23.249818\n",
       "75%    4.007245e+08  8.056150e+05  2021-01-11 11:25:49.897360\n",
       "max    5.307358e+08  1.066989e+06  2021-01-14 11:41:35.506368\n",
       "std    1.567094e+08  3.150479e+05                         NaN"
      ]
     },
     "execution_count": 5,
     "metadata": {},
     "output_type": "execute_result"
    }
   ],
   "source": [
    "r_peaks.describe()"
   ]
  },
  {
   "cell_type": "code",
   "execution_count": 6,
   "metadata": {},
   "outputs": [
    {
     "name": "stdout",
     "output_type": "stream",
     "text": [
      "2021-01-02T02:31:05.465306 2021-01-14T11:41:36.036609\n"
     ]
    }
   ],
   "source": [
    "dates = ecg_stream.get_times()\n",
    "print(dates[0], dates[-1])"
   ]
  },
  {
   "cell_type": "code",
   "execution_count": 8,
   "metadata": {},
   "outputs": [
    {
     "name": "stderr",
     "output_type": "stream",
     "text": [
      "/home/gwendan.percevault/.virtualenvs/py3.11_cluster/lib64/python3.11/site-packages/physio/ecg.py:163: RuntimeWarning: Mean of empty slice\n",
      "  metrics['HRV_Mean'] = np.nanmean(delta_ms)\n",
      "/home/gwendan.percevault/.virtualenvs/py3.11_cluster/lib64/python3.11/site-packages/numpy/lib/nanfunctions.py:1879: RuntimeWarning: Degrees of freedom <= 0 for slice.\n",
      "  var = nanvar(a, axis=axis, dtype=dtype, out=out, ddof=ddof,\n",
      "/home/gwendan.percevault/.virtualenvs/py3.11_cluster/lib64/python3.11/site-packages/numpy/core/fromnumeric.py:3504: RuntimeWarning: Mean of empty slice.\n",
      "  return _methods._mean(a, axis=axis, dtype=dtype,\n",
      "/home/gwendan.percevault/.virtualenvs/py3.11_cluster/lib64/python3.11/site-packages/numpy/core/_methods.py:129: RuntimeWarning: invalid value encountered in scalar divide\n",
      "  ret = ret.dtype.type(ret / rcount)\n",
      "/home/gwendan.percevault/.virtualenvs/py3.11_cluster/lib64/python3.11/site-packages/physio/ecg.py:172: RuntimeWarning: Mean of empty slice\n",
      "  metrics['HRV_RMSSD'] = np.sqrt(np.nanmean(np.diff(delta_ms)**2))\n",
      "/home/gwendan.percevault/.virtualenvs/py3.11_cluster/lib64/python3.11/site-packages/physio/ecg.py:163: RuntimeWarning: Mean of empty slice\n",
      "  metrics['HRV_Mean'] = np.nanmean(delta_ms)\n",
      "/home/gwendan.percevault/.virtualenvs/py3.11_cluster/lib64/python3.11/site-packages/numpy/lib/nanfunctions.py:1879: RuntimeWarning: Degrees of freedom <= 0 for slice.\n",
      "  var = nanvar(a, axis=axis, dtype=dtype, out=out, ddof=ddof,\n",
      "/home/gwendan.percevault/.virtualenvs/py3.11_cluster/lib64/python3.11/site-packages/numpy/core/fromnumeric.py:3504: RuntimeWarning: Mean of empty slice.\n",
      "  return _methods._mean(a, axis=axis, dtype=dtype,\n",
      "/home/gwendan.percevault/.virtualenvs/py3.11_cluster/lib64/python3.11/site-packages/numpy/core/_methods.py:129: RuntimeWarning: invalid value encountered in scalar divide\n",
      "  ret = ret.dtype.type(ret / rcount)\n",
      "/home/gwendan.percevault/.virtualenvs/py3.11_cluster/lib64/python3.11/site-packages/physio/ecg.py:172: RuntimeWarning: Mean of empty slice\n",
      "  metrics['HRV_RMSSD'] = np.sqrt(np.nanmean(np.diff(delta_ms)**2))\n",
      "/home/gwendan.percevault/.virtualenvs/py3.11_cluster/lib64/python3.11/site-packages/physio/ecg.py:163: RuntimeWarning: Mean of empty slice\n",
      "  metrics['HRV_Mean'] = np.nanmean(delta_ms)\n",
      "/home/gwendan.percevault/.virtualenvs/py3.11_cluster/lib64/python3.11/site-packages/numpy/lib/nanfunctions.py:1879: RuntimeWarning: Degrees of freedom <= 0 for slice.\n",
      "  var = nanvar(a, axis=axis, dtype=dtype, out=out, ddof=ddof,\n",
      "/home/gwendan.percevault/.virtualenvs/py3.11_cluster/lib64/python3.11/site-packages/numpy/core/fromnumeric.py:3504: RuntimeWarning: Mean of empty slice.\n",
      "  return _methods._mean(a, axis=axis, dtype=dtype,\n",
      "/home/gwendan.percevault/.virtualenvs/py3.11_cluster/lib64/python3.11/site-packages/numpy/core/_methods.py:129: RuntimeWarning: invalid value encountered in scalar divide\n",
      "  ret = ret.dtype.type(ret / rcount)\n",
      "/home/gwendan.percevault/.virtualenvs/py3.11_cluster/lib64/python3.11/site-packages/physio/ecg.py:172: RuntimeWarning: Mean of empty slice\n",
      "  metrics['HRV_RMSSD'] = np.sqrt(np.nanmean(np.diff(delta_ms)**2))\n"
     ]
    },
    {
     "data": {
      "text/html": [
       "<div>\n",
       "<style scoped>\n",
       "    .dataframe tbody tr th:only-of-type {\n",
       "        vertical-align: middle;\n",
       "    }\n",
       "\n",
       "    .dataframe tbody tr th {\n",
       "        vertical-align: top;\n",
       "    }\n",
       "\n",
       "    .dataframe thead th {\n",
       "        text-align: right;\n",
       "    }\n",
       "</style>\n",
       "<table border=\"1\" class=\"dataframe\">\n",
       "  <thead>\n",
       "    <tr style=\"text-align: right;\">\n",
       "      <th></th>\n",
       "      <th>patient</th>\n",
       "      <th>num_csd</th>\n",
       "      <th>window</th>\n",
       "      <th>hrv</th>\n",
       "    </tr>\n",
       "  </thead>\n",
       "  <tbody>\n",
       "    <tr>\n",
       "      <th>0</th>\n",
       "      <td>HA1</td>\n",
       "      <td>1</td>\n",
       "      <td>baseline</td>\n",
       "      <td>HRV_Mean         718.332989\n",
       "HRV_SD            ...</td>\n",
       "    </tr>\n",
       "    <tr>\n",
       "      <th>1</th>\n",
       "      <td>HA1</td>\n",
       "      <td>1</td>\n",
       "      <td>per_csd</td>\n",
       "      <td>HRV_Mean         938.624354\n",
       "HRV_SD           1...</td>\n",
       "    </tr>\n",
       "    <tr>\n",
       "      <th>2</th>\n",
       "      <td>HA1</td>\n",
       "      <td>1</td>\n",
       "      <td>after_csd_5min</td>\n",
       "      <td>HRV_Mean        NaN\n",
       "HRV_SD          NaN\n",
       "HRV_Me...</td>\n",
       "    </tr>\n",
       "    <tr>\n",
       "      <th>3</th>\n",
       "      <td>HA1</td>\n",
       "      <td>1</td>\n",
       "      <td>after_csd_10min</td>\n",
       "      <td>HRV_Mean        NaN\n",
       "HRV_SD          NaN\n",
       "HRV_Me...</td>\n",
       "    </tr>\n",
       "    <tr>\n",
       "      <th>4</th>\n",
       "      <td>HA1</td>\n",
       "      <td>1</td>\n",
       "      <td>after_csd_15min</td>\n",
       "      <td>HRV_Mean        NaN\n",
       "HRV_SD          NaN\n",
       "HRV_Me...</td>\n",
       "    </tr>\n",
       "  </tbody>\n",
       "</table>\n",
       "</div>"
      ],
      "text/plain": [
       "  patient  num_csd           window  \\\n",
       "0     HA1        1         baseline   \n",
       "1     HA1        1          per_csd   \n",
       "2     HA1        1   after_csd_5min   \n",
       "3     HA1        1  after_csd_10min   \n",
       "4     HA1        1  after_csd_15min   \n",
       "\n",
       "                                                 hrv  \n",
       "0  HRV_Mean         718.332989\n",
       "HRV_SD            ...  \n",
       "1  HRV_Mean         938.624354\n",
       "HRV_SD           1...  \n",
       "2  HRV_Mean        NaN\n",
       "HRV_SD          NaN\n",
       "HRV_Me...  \n",
       "3  HRV_Mean        NaN\n",
       "HRV_SD          NaN\n",
       "HRV_Me...  \n",
       "4  HRV_Mean        NaN\n",
       "HRV_SD          NaN\n",
       "HRV_Me...  "
      ]
     },
     "execution_count": 8,
     "metadata": {},
     "output_type": "execute_result"
    }
   ],
   "source": [
    "rows_hrv = []\n",
    "\n",
    "# Compute HRV for each time window\n",
    "for label_window, (start, stop) in windows.items():\n",
    "    mask = (r_peaks['peak_date'] > start) & (r_peaks['peak_date'] < stop)\n",
    "    local_peaks = r_peaks[mask]\n",
    "    hrv = physio.compute_ecg_metrics(local_peaks)\n",
    "    row = [patient_id, num_csd, label_window, hrv]\n",
    "    rows_hrv.append(row)\n",
    "\n",
    "hrv_csd = pd.DataFrame(rows_hrv, columns=['patient', 'num_csd', 'window', 'hrv'])\n",
    "\n",
    "hrv_csd.head()"
   ]
  },
  {
   "cell_type": "code",
   "execution_count": 13,
   "metadata": {},
   "outputs": [
    {
     "data": {
      "text/plain": [
       "HRV_Mean         961.724359\n",
       "HRV_SD           113.927478\n",
       "HRV_Median       956.948443\n",
       "HRV_Mad           71.534818\n",
       "HRV_CV             0.118462\n",
       "HRV_MCV            0.074753\n",
       "HRV_Asymmetry     -4.775916\n",
       "HRV_RMSSD         80.325119\n",
       "dtype: float64"
      ]
     },
     "execution_count": 13,
     "metadata": {},
     "output_type": "execute_result"
    }
   ],
   "source": [
    "for start, label_window in zip([start_win_before, start_win_during, start_win_after],['pre','per','post']):\n",
    "    stop = start + np.timedelta64(window_duration, 'm')\n",
    "    mask = (r_peaks['peak_date'] > start) & (r_peaks['peak_date'] < stop)\n",
    "    local_peaks = r_peaks[mask]\n",
    "    hrv = physio.compute_ecg_metrics(local_peaks)\n",
    "\n",
    "hrv"
   ]
  },
  {
   "cell_type": "code",
   "execution_count": 14,
   "metadata": {},
   "outputs": [
    {
     "ename": "TypeError",
     "evalue": "compute_instantaneous_rate() missing 1 required positional argument: 'new_times'",
     "output_type": "error",
     "traceback": [
      "\u001b[0;31m---------------------------------------------------------------------------\u001b[0m",
      "\u001b[0;31mTypeError\u001b[0m                                 Traceback (most recent call last)",
      "Cell \u001b[0;32mIn[14], line 2\u001b[0m\n\u001b[1;32m      1\u001b[0m \u001b[38;5;66;03m# Instantaneous Heart Rate (IHR)\u001b[39;00m\n\u001b[0;32m----> 2\u001b[0m ihr \u001b[38;5;241m=\u001b[39m \u001b[43mphysio\u001b[49m\u001b[38;5;241;43m.\u001b[39;49m\u001b[43mcompute_instantaneous_rate\u001b[49m\u001b[43m(\u001b[49m\u001b[43mlocal_peaks\u001b[49m\u001b[43m,\u001b[49m\u001b[43m \u001b[49m\u001b[43mlimits\u001b[49m\u001b[38;5;241;43m=\u001b[39;49m\u001b[38;5;28;43;01mNone\u001b[39;49;00m\u001b[43m,\u001b[49m\u001b[43m \u001b[49m\u001b[43munits\u001b[49m\u001b[38;5;241;43m=\u001b[39;49m\u001b[38;5;124;43m'\u001b[39;49m\u001b[38;5;124;43mbpm\u001b[39;49m\u001b[38;5;124;43m'\u001b[39;49m\u001b[43m,\u001b[49m\u001b[43m \u001b[49m\u001b[43minterpolation_kind\u001b[49m\u001b[38;5;241;43m=\u001b[39;49m\u001b[38;5;124;43m'\u001b[39;49m\u001b[38;5;124;43mlinear\u001b[39;49m\u001b[38;5;124;43m'\u001b[39;49m\u001b[43m)\u001b[49m\n",
      "\u001b[0;31mTypeError\u001b[0m: compute_instantaneous_rate() missing 1 required positional argument: 'new_times'"
     ]
    }
   ],
   "source": [
    "# Instantaneous Heart Rate (IHR)\n",
    "ihr = physio.compute_instantaneous_rate(local_peaks, limits=None, units='bpm', interpolation_kind='linear')\n"
   ]
  },
  {
   "cell_type": "markdown",
   "metadata": {},
   "source": [
    "## Respiratory rate variability "
   ]
  },
  {
   "cell_type": "code",
   "execution_count": 15,
   "metadata": {},
   "outputs": [],
   "source": [
    "# CO2 preprocessing\n",
    "co2_stream = cns_reader.streams['CO2']\n",
    "dates = co2_stream.get_times()\n",
    "resp_cycles = detect_resp_cycles(co2_stream)\n",
    "resp_cycles['inspi_date'] = dates[resp_cycles['inspi_index']]"
   ]
  },
  {
   "cell_type": "code",
   "execution_count": 16,
   "metadata": {},
   "outputs": [
    {
     "name": "stdout",
     "output_type": "stream",
     "text": [
      "   inspi_index  expi_index  next_inspi_index  inspi_time  expi_time  \\\n",
      "0          152         339               501    1.223943   2.729716   \n",
      "1          501         684               863    4.034182   5.507745   \n",
      "2          863        1041              1226    6.949100   8.382402   \n",
      "\n",
      "   next_inspi_time  cycle_duration  inspi_duration  expi_duration  cycle_freq  \\\n",
      "0         4.034182        2.810238        1.505772       1.304466    0.355842   \n",
      "1         6.949100        2.914918        1.473563       1.441354    0.343063   \n",
      "2         9.872070        2.922970        1.433302       1.489668    0.342118   \n",
      "\n",
      "   cycle_ratio                 inspi_date  \n",
      "0     0.535817 2021-01-02 02:31:06.681833  \n",
      "1     0.505525 2021-01-02 02:31:09.475043  \n",
      "2     0.490358 2021-01-02 02:31:12.372299  \n",
      "        inspi_index  expi_index  next_inspi_index    inspi_time     expi_time  \\\n",
      "318635    133132976   133133070         133133238  1.072021e+06  1.072022e+06   \n",
      "318636    133133238   133133365         133133569  1.072023e+06  1.072024e+06   \n",
      "318637    133133569   133133696         133133898  1.072026e+06  1.072027e+06   \n",
      "\n",
      "        next_inspi_time  cycle_duration  inspi_duration  expi_duration  \\\n",
      "318635     1.072023e+06        2.109692        0.756912       1.352780   \n",
      "318636     1.072026e+06        2.665298        1.022637       1.642661   \n",
      "318637     1.072029e+06        2.649193        1.022637       1.626556   \n",
      "\n",
      "        cycle_freq  cycle_ratio                 inspi_date  \n",
      "318635    0.474003     0.358779 2021-01-14 11:41:28.099014  \n",
      "318636    0.375193     0.383686 2021-01-14 11:41:30.195963  \n",
      "318637    0.377473     0.386018 2021-01-14 11:41:32.845163  \n",
      "(318638, 12)\n"
     ]
    }
   ],
   "source": [
    "print(resp_cycles.head(3))\n",
    "print(resp_cycles.tail(3))\n",
    "print(resp_cycles.shape)"
   ]
  },
  {
   "cell_type": "code",
   "execution_count": 17,
   "metadata": {},
   "outputs": [
    {
     "data": {
      "text/plain": [
       "(numpy.datetime64('2021-01-02T02:31:05.465306'),\n",
       " numpy.datetime64('2021-01-14T11:41:36.030606'))"
      ]
     },
     "execution_count": 17,
     "metadata": {},
     "output_type": "execute_result"
    }
   ],
   "source": [
    "dates = co2_stream.get_times()\n",
    "dates[0], dates[-1]"
   ]
  },
  {
   "cell_type": "code",
   "execution_count": 18,
   "metadata": {},
   "outputs": [],
   "source": [
    "# Compute RR variability using physio toolbox over a time window : \n",
    "window_duration = 5 # mins\n",
    "\n",
    "num_csd = 15\n",
    "date_csd = \"2021-01-02T13:25:00\" # date de début de la dépolarisation de l'electrode la plus précoce\n",
    "\n",
    "start_win_before = np.datetime64(date_csd) - np.timedelta64(window_duration, 'm')\n",
    "start_win_during = np.datetime64(date_csd)\n",
    "start_win_after = np.datetime64(date_csd) + np.timedelta64(window_duration, 'm')\n",
    "\n",
    "rows_rr = []\n",
    "for start, label_window in zip([start_win_before, start_win_during, start_win_after],['pre','per','post']):\n",
    "    stop = start + np.timedelta64(window_duration, 'm')\n",
    "    mask = (resp_cycles['inspi_date'] > start) & (resp_cycles['inspi_date'] < stop)\n",
    "    local_cycles = resp_cycles[mask]"
   ]
  },
  {
   "cell_type": "code",
   "execution_count": null,
   "metadata": {},
   "outputs": [],
   "source": []
  },
  {
   "cell_type": "markdown",
   "metadata": {},
   "source": [
    "## RSA"
   ]
  },
  {
   "cell_type": "code",
   "execution_count": null,
   "metadata": {},
   "outputs": [],
   "source": [
    "rows_rsa = []\n",
    "# Define rsa_cycles\n",
    "\n",
    "for start, label_window in zip([start_win_before, start_win_during, start_win_after], ['pre', 'per', 'post']) : \n",
    "    stop = start + np.timedelta64(window_duration, 'm')\n",
    "    mask = (rsa_cycles[rsa_cycle] > start) & (rsa_cycles[rsa_cycles] < stop)\n",
    "    local_rsa_cycles = rsa_cycles[mask]\n",
    "    \n",
    "\n",
    "\n",
    "\n",
    "\n",
    "def compute_rsa(resp_cycles, ecg_peaks, srate=100., units='bpm', limits=None, two_segment=True, points_per_cycle=50):"
   ]
  },
  {
   "cell_type": "markdown",
   "metadata": {},
   "source": [
    "# ABP\n",
    "Définir ABP médiane \n",
    "\n",
    "Définir PP \n",
    "\n",
    "% de variation de la PAM et PIC à définir en % afin de normaliser les observations \n",
    "\n",
    "% de variation en fonction de la respi -> Définir spectre"
   ]
  },
  {
   "cell_type": "markdown",
   "metadata": {},
   "source": [
    "# PIC \n",
    "Définir PIC médiane "
   ]
  },
  {
   "cell_type": "markdown",
   "metadata": {},
   "source": []
  }
 ],
 "metadata": {
  "kernelspec": {
   "display_name": "Python 3 (ipykernel)",
   "language": "python",
   "name": "python3"
  },
  "language_info": {
   "codemirror_mode": {
    "name": "ipython",
    "version": 3
   },
   "file_extension": ".py",
   "mimetype": "text/x-python",
   "name": "python",
   "nbconvert_exporter": "python",
   "pygments_lexer": "ipython3",
   "version": "3.11.7"
  }
 },
 "nbformat": 4,
 "nbformat_minor": 4
}
