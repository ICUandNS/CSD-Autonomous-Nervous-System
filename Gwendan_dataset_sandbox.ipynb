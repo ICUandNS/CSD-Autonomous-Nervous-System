{
 "cells": [
  {
   "cell_type": "markdown",
   "metadata": {},
   "source": [
    "# Configuration"
   ]
  },
  {
   "cell_type": "markdown",
   "metadata": {},
   "source": [
    "# IMPORTS"
   ]
  },
  {
   "cell_type": "code",
   "execution_count": 3,
   "metadata": {},
   "outputs": [],
   "source": [
    "import physio \n",
    "import numpy as np \n",
    "import matplotlib.pyplot as plt\n",
    "import matplotlib.dates as mdates\n",
    "import pandas as pd \n",
    "import scipy.signal as signal \n",
    "from pathlib import Path \n",
    "\n",
    "# Import physio\n",
    "import physio \n",
    "\n",
    "# Import CNS reader\n",
    "from pycns import CnsReader, get_viewer\n",
    "from pycns import CnsStream \n",
    "\n",
    "# Import pathlib \n",
    "from pathlib import Path"
   ]
  },
  {
   "cell_type": "code",
   "execution_count": 4,
   "metadata": {},
   "outputs": [
    {
     "name": "stdout",
     "output_type": "stream",
     "text": [
      "CnsReader: MF12\n",
      "0 streams : []\n"
     ]
    }
   ],
   "source": [
    "base_folder = Path('Users/gwendanpercevault/Library/CloudStorage/OneDrive-Personnel/Documents/Neurosciences/Master2Lyon/SpreadingDepolarization/Python/')\n",
    "\n",
    "patient_id = 'MF12'\n",
    "raw_folder = base_folder / patient_id \n",
    "\n",
    "cns_reader = CnsReader(raw_folder)\n",
    "print(cns_reader)  "
   ]
  },
  {
   "cell_type": "code",
   "execution_count": null,
   "metadata": {},
   "outputs": [],
   "source": []
  }
 ],
 "metadata": {
  "kernelspec": {
   "display_name": "Python 3",
   "language": "python",
   "name": "python3"
  },
  "language_info": {
   "codemirror_mode": {
    "name": "ipython",
    "version": 3
   },
   "file_extension": ".py",
   "mimetype": "text/x-python",
   "name": "python",
   "nbconvert_exporter": "python",
   "pygments_lexer": "ipython3",
   "version": "3.10.13"
  }
 },
 "nbformat": 4,
 "nbformat_minor": 2
}
