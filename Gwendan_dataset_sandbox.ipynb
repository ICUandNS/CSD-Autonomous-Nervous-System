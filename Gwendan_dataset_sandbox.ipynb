{
 "cells": [
  {
   "cell_type": "markdown",
   "metadata": {},
   "source": [
    "# Configuration"
   ]
  },
  {
   "cell_type": "markdown",
   "metadata": {},
   "source": [
    "# IMPORTS"
   ]
  },
  {
   "cell_type": "code",
   "execution_count": 3,
   "metadata": {},
   "outputs": [],
   "source": [
    "import physio \n",
    "import numpy as np \n",
    "import matplotlib.pyplot as plt\n",
    "import matplotlib.dates as mdates\n",
    "import pandas as pd \n",
    "import scipy.signal as signal \n",
    "from pathlib import Path \n",
    "\n",
    "# Import physio\n",
    "import physio \n",
    "\n",
    "# Import CNS reader\n",
    "from pycns import CnsReader, get_viewer\n",
    "from pycns import CnsStream \n",
    "\n",
    "# Import pathlib \n",
    "from pathlib import Path"
   ]
  },
  {
   "cell_type": "code",
   "execution_count": 11,
   "metadata": {},
   "outputs": [
    {
     "name": "stdout",
     "output_type": "stream",
     "text": [
      "CnsReader: HA1\n",
      "0 streams : []\n"
     ]
    }
   ],
   "source": [
    "base_folder = Path('Users/gwendanpercevault/Library/CloudStorage/OneDrive-Personnel/Documents/Neurosciences/Master2Lyon/SpreadingDepolarization/Python/')\n",
    "\n",
    "patient_id = 'HA1'\n",
    "raw_folder = base_folder / patient_id \n",
    "\n",
    "cns_reader = CnsReader(raw_folder) #file not found -> check the path\n",
    "print(cns_reader)  "
   ]
  },
  {
   "cell_type": "code",
   "execution_count": 12,
   "metadata": {},
   "outputs": [
    {
     "ename": "FileNotFoundError",
     "evalue": "[Errno 2] No such file or directory: '/Users/gwendanpercevault/Library/CloudStorage/OneDrive-Personnel/Documents/Neurosciences/Master2Lyon/SpreadingDepolarization/Python/MF12'",
     "output_type": "error",
     "traceback": [
      "\u001b[0;31m---------------------------------------------------------------------------\u001b[0m",
      "\u001b[0;31mFileNotFoundError\u001b[0m                         Traceback (most recent call last)",
      "Cell \u001b[0;32mIn[12], line 3\u001b[0m\n\u001b[1;32m      1\u001b[0m \u001b[38;5;28;01mimport\u001b[39;00m \u001b[38;5;21;01mos\u001b[39;00m\n\u001b[1;32m      2\u001b[0m directory_path \u001b[38;5;241m=\u001b[39m \u001b[38;5;124m'\u001b[39m\u001b[38;5;124m/Users/gwendanpercevault/Library/CloudStorage/OneDrive-Personnel/Documents/Neurosciences/Master2Lyon/SpreadingDepolarization/Python/MF12\u001b[39m\u001b[38;5;124m'\u001b[39m\n\u001b[0;32m----> 3\u001b[0m \u001b[43mos\u001b[49m\u001b[38;5;241;43m.\u001b[39;49m\u001b[43mchdir\u001b[49m\u001b[43m(\u001b[49m\u001b[43mdirectory_path\u001b[49m\u001b[43m)\u001b[49m\n",
      "\u001b[0;31mFileNotFoundError\u001b[0m: [Errno 2] No such file or directory: '/Users/gwendanpercevault/Library/CloudStorage/OneDrive-Personnel/Documents/Neurosciences/Master2Lyon/SpreadingDepolarization/Python/MF12'"
     ]
    }
   ],
   "source": [
    "import os\n",
    "directory_path = '/Users/gwendanpercevault/Library/CloudStorage/OneDrive-Personnel/Documents/Neurosciences/Master2Lyon/SpreadingDepolarization/Python/MF12'\n",
    "os.chdir(directory_path)"
   ]
  },
  {
   "cell_type": "code",
   "execution_count": 2,
   "metadata": {},
   "outputs": [
    {
     "name": "stdout",
     "output_type": "stream",
     "text": [
      "paris\n",
      "{'spain': {'capital': 'madrid', 'population': 46.77}, 'france': {'capital': 'paris', 'population': 66.03}, 'germany': {'capital': 'berlin', 'population': 80.62}, 'norway': {'capital': 'oslo', 'population': 5.084}, 'italy': {'capital': 'rome', 'population': 59.83}}\n"
     ]
    }
   ],
   "source": [
    "# Dictionary of dictionaries\n",
    "europe = { 'spain': { 'capital':'madrid', 'population':46.77 },\n",
    "           'france': { 'capital':'paris', 'population':66.03 },\n",
    "           'germany': { 'capital':'berlin', 'population':80.62 },\n",
    "           'norway': { 'capital':'oslo', 'population':5.084 } }\n",
    "\n",
    "\n",
    "# Print out the capital of France\n",
    "print(europe['france'] ['capital'])\n",
    "\n",
    "# Create sub-dictionary data\n",
    "data = {'capital' : 'rome', 'population' : 59.83}\n",
    "\n",
    "\n",
    "\n",
    "# Add data to europe under key 'italy'\n",
    "europe.update({'italy' : data})\n",
    "\n",
    "# Print europe\n",
    "print(europe)"
   ]
  },
  {
   "cell_type": "code",
   "execution_count": null,
   "metadata": {},
   "outputs": [],
   "source": []
  }
 ],
 "metadata": {
  "kernelspec": {
   "display_name": "Python 3",
   "language": "python",
   "name": "python3"
  },
  "language_info": {
   "codemirror_mode": {
    "name": "ipython",
    "version": 3
   },
   "file_extension": ".py",
   "mimetype": "text/x-python",
   "name": "python",
   "nbconvert_exporter": "python",
   "pygments_lexer": "ipython3",
   "version": "3.11.7"
  }
 },
 "nbformat": 4,
 "nbformat_minor": 2
}
